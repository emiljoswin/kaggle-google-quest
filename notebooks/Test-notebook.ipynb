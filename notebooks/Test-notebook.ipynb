{
 "cells": [
  {
   "cell_type": "markdown",
   "metadata": {
    "heading_collapsed": true
   },
   "source": [
    "# Spearman"
   ]
  },
  {
   "cell_type": "code",
   "execution_count": 16,
   "metadata": {
    "hidden": true
   },
   "outputs": [],
   "source": [
    "from scipy.stats import spearmanr\n",
    "from scipy.stats import rankdata"
   ]
  },
  {
   "cell_type": "code",
   "execution_count": 11,
   "metadata": {
    "hidden": true
   },
   "outputs": [
    {
     "data": {
      "text/plain": [
       "SpearmanrResult(correlation=0.8207826816681233, pvalue=0.08858700531354381)"
      ]
     },
     "execution_count": 11,
     "metadata": {},
     "output_type": "execute_result"
    }
   ],
   "source": [
    "x = [1,2,3,4,5]\n",
    "y = [5,6,7,8,7]\n",
    "spearmanr(x, y)"
   ]
  },
  {
   "cell_type": "code",
   "execution_count": 12,
   "metadata": {
    "hidden": true
   },
   "outputs": [
    {
     "data": {
      "text/plain": [
       "SpearmanrResult(correlation=-0.17575757575757575, pvalue=0.6271883447764844)"
      ]
     },
     "execution_count": 12,
     "metadata": {},
     "output_type": "execute_result"
    }
   ],
   "source": [
    "x = [106, 86, 100, 101, 99, 103, 97, 113, 112, 110]\n",
    "y = [7, 0, 27, 50, 28, 29, 20, 12, 6, 17]\n",
    "\n",
    "spearmanr(x, y)"
   ]
  },
  {
   "cell_type": "code",
   "execution_count": 27,
   "metadata": {
    "hidden": true
   },
   "outputs": [
    {
     "name": "stderr",
     "output_type": "stream",
     "text": [
      "/Users/emiljoswin/anaconda3/envs/py37/lib/python3.7/site-packages/numpy/lib/function_base.py:2534: RuntimeWarning: invalid value encountered in true_divide\n",
      "  c /= stddev[:, None]\n",
      "/Users/emiljoswin/anaconda3/envs/py37/lib/python3.7/site-packages/numpy/lib/function_base.py:2535: RuntimeWarning: invalid value encountered in true_divide\n",
      "  c /= stddev[None, :]\n",
      "/Users/emiljoswin/anaconda3/envs/py37/lib/python3.7/site-packages/scipy/stats/_distn_infrastructure.py:901: RuntimeWarning: invalid value encountered in greater\n",
      "  return (a < x) & (x < b)\n",
      "/Users/emiljoswin/anaconda3/envs/py37/lib/python3.7/site-packages/scipy/stats/_distn_infrastructure.py:901: RuntimeWarning: invalid value encountered in less\n",
      "  return (a < x) & (x < b)\n",
      "/Users/emiljoswin/anaconda3/envs/py37/lib/python3.7/site-packages/scipy/stats/_distn_infrastructure.py:1892: RuntimeWarning: invalid value encountered in less_equal\n",
      "  cond2 = cond0 & (x <= _a)\n"
     ]
    },
    {
     "data": {
      "text/plain": [
       "SpearmanrResult(correlation=nan, pvalue=nan)"
      ]
     },
     "execution_count": 27,
     "metadata": {},
     "output_type": "execute_result"
    }
   ],
   "source": [
    "x = [106, 86, 100, 101, 99, 103, 97, 113, 112, 110]\n",
    "y = [0, 0, 0, 0, 0, 0, 0, 0, 0, 0] \n",
    "\n",
    "spearmanr(x, y)"
   ]
  },
  {
   "cell_type": "code",
   "execution_count": 19,
   "metadata": {
    "hidden": true
   },
   "outputs": [
    {
     "data": {
      "text/plain": [
       "SpearmanrResult(correlation=-1.0, pvalue=0.0)"
      ]
     },
     "execution_count": 19,
     "metadata": {},
     "output_type": "execute_result"
    }
   ],
   "source": [
    "x = [1, 2, 3, 4]\n",
    "y = [9, 8, 7, 5]\n",
    "\n",
    "spearmanr(x, y)"
   ]
  },
  {
   "cell_type": "code",
   "execution_count": 21,
   "metadata": {
    "hidden": true
   },
   "outputs": [
    {
     "data": {
      "text/plain": [
       "array([1., 2., 3., 4.])"
      ]
     },
     "execution_count": 21,
     "metadata": {},
     "output_type": "execute_result"
    }
   ],
   "source": [
    "rankdata(x)"
   ]
  },
  {
   "cell_type": "code",
   "execution_count": 23,
   "metadata": {
    "hidden": true
   },
   "outputs": [
    {
     "data": {
      "text/plain": [
       "[(86, 0),\n",
       " (97, 0),\n",
       " (99, 0),\n",
       " (100, 0),\n",
       " (101, 0),\n",
       " (103, 0),\n",
       " (106, 0),\n",
       " (110, 0),\n",
       " (112, 0),\n",
       " (113, 0)]"
      ]
     },
     "execution_count": 23,
     "metadata": {},
     "output_type": "execute_result"
    }
   ],
   "source": [
    "sorted(zip(x, y))"
   ]
  },
  {
   "cell_type": "code",
   "execution_count": 24,
   "metadata": {
    "hidden": true
   },
   "outputs": [
    {
     "data": {
      "text/plain": [
       "array([5.5, 5.5, 5.5, 5.5, 5.5, 5.5, 5.5, 5.5, 5.5, 5.5])"
      ]
     },
     "execution_count": 24,
     "metadata": {},
     "output_type": "execute_result"
    }
   ],
   "source": [
    "rankdata(y)"
   ]
  },
  {
   "cell_type": "code",
   "execution_count": null,
   "metadata": {
    "hidden": true
   },
   "outputs": [],
   "source": []
  },
  {
   "cell_type": "markdown",
   "metadata": {},
   "source": [
    "# Spearmans comparision between two submission files"
   ]
  },
  {
   "cell_type": "code",
   "execution_count": 41,
   "metadata": {},
   "outputs": [],
   "source": [
    "from scipy.stats import spearmanr\n",
    "from scipy.stats import rankdata\n",
    "import pandas as pd"
   ]
  },
  {
   "cell_type": "code",
   "execution_count": 44,
   "metadata": {},
   "outputs": [],
   "source": [
    "sub1 = pd.read_csv('submission-1.csv')\n",
    "sub2 = pd.read_csv('submission-LSTM1.csv')\n",
    "sub3 = pd.read_csv('submission-3.csv')"
   ]
  },
  {
   "cell_type": "code",
   "execution_count": 45,
   "metadata": {
    "scrolled": true
   },
   "outputs": [
    {
     "data": {
      "text/plain": [
       "SpearmanrResult(correlation=-0.17779087007196126, pvalue=9.625114320641101e-05)"
      ]
     },
     "execution_count": 45,
     "metadata": {},
     "output_type": "execute_result"
    }
   ],
   "source": [
    "spearmanr(sub1['question_asker_intent_understanding'], sub2['question_asker_intent_understanding'] )"
   ]
  },
  {
   "cell_type": "code",
   "execution_count": 46,
   "metadata": {},
   "outputs": [
    {
     "data": {
      "text/plain": [
       "SpearmanrResult(correlation=0.6276081991883148, pvalue=1.694671306079919e-53)"
      ]
     },
     "execution_count": 46,
     "metadata": {},
     "output_type": "execute_result"
    }
   ],
   "source": [
    "spearmanr(sub1['question_asker_intent_understanding'], sub3['question_asker_intent_understanding'] )"
   ]
  },
  {
   "cell_type": "code",
   "execution_count": 39,
   "metadata": {},
   "outputs": [
    {
     "data": {
      "text/plain": [
       "0      0.922307\n",
       "1      0.840942\n",
       "2      0.888614\n",
       "3      0.810273\n",
       "4      0.853046\n",
       "         ...   \n",
       "471    0.763972\n",
       "472    0.814467\n",
       "473    0.728414\n",
       "474    0.882634\n",
       "475    0.860409\n",
       "Name: question_asker_intent_understanding, Length: 476, dtype: float64"
      ]
     },
     "execution_count": 39,
     "metadata": {},
     "output_type": "execute_result"
    }
   ],
   "source": [
    "sub1['question_asker_intent_understanding']"
   ]
  },
  {
   "cell_type": "code",
   "execution_count": 40,
   "metadata": {},
   "outputs": [
    {
     "data": {
      "text/plain": [
       "0      0.872352\n",
       "1      0.866370\n",
       "2      0.872587\n",
       "3      0.866950\n",
       "4      0.874695\n",
       "         ...   \n",
       "471    0.859003\n",
       "472    0.873435\n",
       "473    0.890932\n",
       "474    0.876349\n",
       "475    0.859503\n",
       "Name: question_asker_intent_understanding, Length: 476, dtype: float64"
      ]
     },
     "execution_count": 40,
     "metadata": {},
     "output_type": "execute_result"
    }
   ],
   "source": [
    "sub2['question_asker_intent_understanding'] "
   ]
  },
  {
   "cell_type": "code",
   "execution_count": 42,
   "metadata": {},
   "outputs": [
    {
     "data": {
      "text/plain": [
       "array([452., 257., 389., 133., 291., 403., 197., 434., 121., 228., 271.,\n",
       "       114., 396., 247.,  42., 118.,  18., 323., 353., 397., 161., 220.,\n",
       "       424., 211., 473., 215.,  15.,  46., 148., 164.,  56.,  88.,   7.,\n",
       "       154., 419., 337.,   5., 425., 440., 182., 200.,  32., 156., 235.,\n",
       "        80., 394.,  49., 413.,  89., 128., 259., 385.,  29., 263.,  61.,\n",
       "       185., 392.,   3., 276.,  41., 332., 316., 429.,  47., 192., 387.,\n",
       "       338.,  78., 427.,  53., 289.,  52., 294.,  64., 326., 430., 232.,\n",
       "       375., 275., 155., 239., 225., 297., 209., 201., 258., 178., 218.,\n",
       "        66.,  76., 345., 450., 313., 146., 444., 366., 421., 368., 405.,\n",
       "       139.,  87.,  27., 328., 143., 312., 198., 409., 428., 162.,  97.,\n",
       "       433., 196.,  43., 277., 458., 462., 113., 262., 465., 359.,   2.,\n",
       "       414.,  34.,  68., 319.,  26., 159., 370., 204., 336., 334.,  55.,\n",
       "       119., 304., 231.,  63., 283., 264., 302., 137., 106.,  60., 268.,\n",
       "       256., 360., 400.,  99., 447., 348., 170., 255., 205., 307., 454.,\n",
       "       361., 236., 363., 104., 378., 351.,  44., 296., 463., 343., 330.,\n",
       "       437., 125., 107., 186.,  20., 105., 303., 384., 357.,  19.,  74.,\n",
       "       144., 152., 395., 369., 311., 241., 246., 273., 402., 131., 329.,\n",
       "       404., 191., 193.,  91., 295., 325., 457., 469., 460., 181., 103.,\n",
       "       371., 415., 441., 476., 267., 390.,  81., 278., 112., 391., 217.,\n",
       "        35., 136.,  92., 472., 195., 416., 321., 401., 365., 207., 320.,\n",
       "       373., 466., 284., 346., 298., 266.,  40., 435., 286., 272., 101.,\n",
       "       260.,  48., 145., 342., 280., 216., 331., 189.,  59., 130.,  31.,\n",
       "       315.,   1., 251., 355., 242.,  21., 124., 126., 305., 310., 464.,\n",
       "       212., 299., 449.,  24., 175., 292., 138., 160., 188.,  69., 422.,\n",
       "       388.,  98., 461., 420., 179., 100., 364., 140.,  62., 322., 226.,\n",
       "       132., 279., 250., 475., 293., 248., 324., 158., 376., 285.,  95.,\n",
       "       423., 354.,  11., 356., 177., 383., 110.,  72., 180., 227., 223.,\n",
       "        86., 122., 300., 350., 176.,  94., 317., 222., 141., 318.,  57.,\n",
       "       446., 327., 210., 379., 252.,  30.,   8., 109., 171., 417.,   4.,\n",
       "        28.,  65., 335., 221., 237., 265., 432., 288., 230., 270., 149.,\n",
       "        90., 448.,  17., 249.,  58., 374.,  45.,  73., 127.,  82., 418.,\n",
       "        54.,  85., 443., 456., 253., 367., 238., 358., 172.,  14.,  71.,\n",
       "       213., 398.,   6., 224., 261., 244., 199.,  36., 399.,  51.,  67.,\n",
       "       306., 123., 173., 408., 445., 165., 243., 274., 380., 438.,  39.,\n",
       "       439., 174., 234., 340., 333., 245., 411., 474., 382., 166., 108.,\n",
       "        79., 281., 471., 115., 455., 129., 309., 203., 349., 407., 412.,\n",
       "       233.,  10., 352., 147., 184., 453., 229., 269., 206., 341., 240.,\n",
       "       167., 386., 168.,  83., 362., 153., 163., 451.,   9.,  25., 169.,\n",
       "       208.,  77., 102., 442., 120.,  96., 377., 467.,  13.,  37., 290.,\n",
       "       142., 470., 282., 459., 214., 183., 202.,  75.,  16., 150.,  50.,\n",
       "       339., 406., 426., 436.,  84., 308., 301.,  38., 372., 344., 116.,\n",
       "       135.,  22.,  70., 410., 287., 347., 111., 134.,  23., 219., 117.,\n",
       "        93., 187., 431., 468., 254., 190., 157., 194., 393.,  33., 151.,\n",
       "        12., 381., 314.])"
      ]
     },
     "execution_count": 42,
     "metadata": {},
     "output_type": "execute_result"
    }
   ],
   "source": [
    "rankdata(sub1['question_asker_intent_understanding'])"
   ]
  },
  {
   "cell_type": "code",
   "execution_count": 43,
   "metadata": {},
   "outputs": [
    {
     "data": {
      "text/plain": [
       "array([165., 108., 167., 115., 190., 106., 470., 281., 389., 352., 348.,\n",
       "        37., 417., 154.,  99., 413., 239.,  38., 232., 160.,  26., 404.,\n",
       "       120.,  86.,  40., 350., 198., 329., 155., 321., 409., 463.,  77.,\n",
       "        18.,  84., 228.,  62., 365., 168., 215., 127., 456., 262., 375.,\n",
       "       335., 199., 101., 355., 390., 346., 377., 364., 130., 366., 183.,\n",
       "        60.,  68., 444., 261.,  75., 338.,  42., 100., 171., 218., 343.,\n",
       "       116., 203., 197.,  46., 207., 161., 438., 247., 125., 121., 180.,\n",
       "       137., 179., 405., 387., 369., 138., 372.,  10., 114., 406.,  61.,\n",
       "       142.,  96., 169.,  91.,  12., 450.,  14., 284.,  95., 282., 102.,\n",
       "       445., 399., 468., 437.,  79., 105.,  44., 200., 159., 342., 315.,\n",
       "       423.,  76., 173.,  83., 206., 257.,  69., 294., 164., 109., 269.,\n",
       "       151., 347., 465.,  28., 297.,   1., 237.,  33., 107.,  32., 440.,\n",
       "       475., 251., 314., 368., 371., 174., 234., 184., 286.,  93., 383.,\n",
       "       318.,   2., 298., 397., 424.,  53., 378., 202., 259., 149.,  27.,\n",
       "       227., 126., 185., 380., 110., 118., 412., 357.,  50., 363., 359.,\n",
       "       307., 459., 193., 362., 295., 471., 128.,  11.,  19., 349., 162.,\n",
       "       136.,  31., 340., 308., 439.,  30., 287.,   4., 236., 401.,  64.,\n",
       "        67., 421., 461., 420., 344.,  87., 270., 147., 157., 458., 449.,\n",
       "       447.,  49., 332., 148., 229.,  54., 367., 400., 181., 353., 113.,\n",
       "       446., 464., 141., 263., 212., 354.,  43.,  73., 209., 430., 474.,\n",
       "       296., 302., 426., 469., 117., 410., 205., 201., 119., 460., 467.,\n",
       "        82.,  22., 328., 253., 196., 166., 376., 266.,  78.,  17., 192.,\n",
       "       398., 273., 219., 434., 271., 256., 443., 292., 289., 131., 391.,\n",
       "        48., 361., 146., 462., 436., 341., 195., 331., 429., 431., 336.,\n",
       "       112., 310., 249.,  13., 252., 373., 156., 175.,  59., 241., 291.,\n",
       "       124.,  72.,  97.,  89.,  55., 454., 189., 240., 306., 396., 441.,\n",
       "       333., 414., 279., 402., 407., 381., 145., 435., 254., 452., 323.,\n",
       "       191.,   5., 214.,  41., 433.,  80., 226., 123., 379., 204., 322.,\n",
       "       153., 213., 325., 230., 129., 233., 140., 143.,  57.,  81.,  36.,\n",
       "       224., 313.,  47.,  20., 132., 223.,  51., 472., 290., 330., 425.,\n",
       "       309.,  70., 451., 276., 411., 360., 135., 188., 301., 300., 231.,\n",
       "       280., 324., 303.,  16., 418.,  94., 403.,  66., 293., 163., 455.,\n",
       "       453., 244., 144.,  88., 337.,  24., 374., 248., 152., 422.,   9.,\n",
       "       416., 104.,  90., 177.,  15., 285., 415., 393., 386., 356., 194.,\n",
       "        63., 394., 408.,  98., 187., 317., 258., 320., 211., 182.,  74.,\n",
       "       345., 326., 225.,  23.,  92., 319.,  34., 221., 448., 103., 312.,\n",
       "       382., 217., 220., 238., 473., 267., 265., 186.,  65., 111.,   3.,\n",
       "       172.,  45., 428., 476.,  35.,  29.,  71., 272., 384., 334., 466.,\n",
       "       277., 139., 442., 264., 316., 358., 299.,  25., 419., 311.,  85.,\n",
       "       278., 392., 288.,  52.,   8., 304., 134., 395., 243., 242., 305.,\n",
       "        21., 255., 158., 339., 178., 133., 122., 327., 275., 427., 385.,\n",
       "       245., 274.,   7., 246., 268., 235., 432., 260., 250., 210., 457.,\n",
       "        39., 222., 351., 283., 370., 170.,   6., 150., 208.,  56., 176.,\n",
       "       388., 216.,  58.])"
      ]
     },
     "execution_count": 43,
     "metadata": {},
     "output_type": "execute_result"
    }
   ],
   "source": [
    "rankdata(sub2['question_asker_intent_understanding'])"
   ]
  },
  {
   "cell_type": "code",
   "execution_count": null,
   "metadata": {},
   "outputs": [],
   "source": []
  }
 ],
 "metadata": {
  "kernelspec": {
   "display_name": "Python 3",
   "language": "python",
   "name": "python3"
  },
  "language_info": {
   "codemirror_mode": {
    "name": "ipython",
    "version": 3
   },
   "file_extension": ".py",
   "mimetype": "text/x-python",
   "name": "python",
   "nbconvert_exporter": "python",
   "pygments_lexer": "ipython3",
   "version": "3.7.4"
  },
  "toc": {
   "base_numbering": 1,
   "nav_menu": {},
   "number_sections": true,
   "sideBar": true,
   "skip_h1_title": false,
   "title_cell": "Table of Contents",
   "title_sidebar": "Contents",
   "toc_cell": false,
   "toc_position": {},
   "toc_section_display": true,
   "toc_window_display": false
  }
 },
 "nbformat": 4,
 "nbformat_minor": 2
}
