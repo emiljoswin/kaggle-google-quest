{
 "cells": [
  {
   "cell_type": "markdown",
   "metadata": {
    "colab_type": "text",
    "id": "An4VIv4M75dw"
   },
   "source": [
    "# Google Colab"
   ]
  },
  {
   "cell_type": "code",
   "execution_count": 1,
   "metadata": {
    "colab": {
     "base_uri": "https://localhost:8080/",
     "height": 121
    },
    "colab_type": "code",
    "id": "Fp1H_Hjy7I7O",
    "outputId": "605b4915-a3bc-4e02-ee7b-efe5cabc3cc5"
   },
   "outputs": [
    {
     "name": "stdout",
     "output_type": "stream",
     "text": [
      "Go to this URL in a browser: https://accounts.google.com/o/oauth2/auth?client_id=947318989803-6bn6qk8qdgf4n4g3pfee6491hc0brc4i.apps.googleusercontent.com&redirect_uri=urn%3aietf%3awg%3aoauth%3a2.0%3aoob&response_type=code&scope=email%20https%3a%2f%2fwww.googleapis.com%2fauth%2fdocs.test%20https%3a%2f%2fwww.googleapis.com%2fauth%2fdrive%20https%3a%2f%2fwww.googleapis.com%2fauth%2fdrive.photos.readonly%20https%3a%2f%2fwww.googleapis.com%2fauth%2fpeopleapi.readonly\n",
      "\n",
      "Enter your authorization code:\n",
      "··········\n",
      "Mounted at /content/drive\n"
     ]
    }
   ],
   "source": [
    "from google.colab import drive\n",
    "drive.mount('/content/drive')"
   ]
  },
  {
   "cell_type": "code",
   "execution_count": 0,
   "metadata": {
    "colab": {},
    "colab_type": "code",
    "id": "9qsJimAd7__R"
   },
   "outputs": [],
   "source": [
    "! cp -r drive/My\\ Drive/ml_projects/kaggle/google_quest/google-quest-challenge ."
   ]
  },
  {
   "cell_type": "code",
   "execution_count": 0,
   "metadata": {
    "colab": {},
    "colab_type": "code",
    "id": "bEOrWFeK8ruu"
   },
   "outputs": [],
   "source": [
    "! cp drive/My\\ Drive/ml_projects/ml_datasets/nlp_pretrained/Glove/glove.6B.50d.txt ."
   ]
  },
  {
   "cell_type": "markdown",
   "metadata": {
    "colab_type": "text",
    "id": "ilpcSSWR7-vC"
   },
   "source": [
    "# Resume"
   ]
  },
  {
   "cell_type": "code",
   "execution_count": 0,
   "metadata": {
    "colab": {
     "base_uri": "https://localhost:8080/",
     "height": 17
    },
    "colab_type": "code",
    "id": "GM3iN1W_6s0t",
    "outputId": "7786e76e-fe5d-4cf2-bba7-8ede4dd79e7c"
   },
   "outputs": [
    {
     "data": {
      "text/html": [
       "<style>.container { width:95% !important; }</style>"
      ],
      "text/plain": [
       "<IPython.core.display.HTML object>"
      ]
     },
     "metadata": {
      "tags": []
     },
     "output_type": "display_data"
    },
    {
     "data": {
      "text/html": [
       "<style>.run_this_cell {display: block !important;} </style"
      ],
      "text/plain": [
       "<IPython.core.display.HTML object>"
      ]
     },
     "metadata": {
      "tags": []
     },
     "output_type": "display_data"
    }
   ],
   "source": [
    "from IPython.core.display import display, HTML\n",
    "display(HTML(\"<style>.container { width:95% !important; }</style>\"))\n",
    "display(HTML(\"<style>.run_this_cell {display: block !important;} </style\"))"
   ]
  },
  {
   "cell_type": "code",
   "execution_count": 7,
   "metadata": {
    "colab": {
     "base_uri": "https://localhost:8080/",
     "height": 34
    },
    "colab_type": "code",
    "id": "ngY115JoCkbG",
    "outputId": "93bb5272-f2cb-4145-e109-6d7d05222e99"
   },
   "outputs": [
    {
     "name": "stdout",
     "output_type": "stream",
     "text": [
      "TensorFlow 2.x selected.\n"
     ]
    }
   ],
   "source": [
    "%tensorflow_version 2.x "
   ]
  },
  {
   "cell_type": "code",
   "execution_count": 0,
   "metadata": {
    "colab": {},
    "colab_type": "code",
    "id": "T8O2tkNe6s00"
   },
   "outputs": [],
   "source": [
    "import re\n",
    "import pandas as pd\n",
    "import numpy as np\n",
    "import tensorflow as tf\n",
    "from tensorflow.keras.preprocessing.text import Tokenizer\n",
    "from tensorflow.keras.preprocessing.sequence import pad_sequences\n",
    "from tensorflow.keras.layers import Input, concatenate, LSTM, Bidirectional, Embedding, add, Dense\n",
    "from tensorflow.keras.layers import GlobalAveragePooling1D, GlobalMaxPooling1D\n",
    "from tensorflow.keras.models import Model\n",
    "\n",
    "from tensorflow.keras import models, layers, optimizers\n",
    "\n",
    "\n",
    "from datetime import datetime\n",
    "from typing import List, Dict, Tuple, Any\n",
    "\n",
    "from collections import Counter\n",
    "# from tqdm.notebook import trange, tqdm\n",
    "from tqdm import trange, tqdm, tqdm_notebook, tnrange\n",
    "from gensim.models import KeyedVectors\n",
    "import matplotlib.pyplot as plt\n",
    "import seaborn as sns\n",
    "import time\n",
    "\n",
    "sns.set()"
   ]
  },
  {
   "cell_type": "code",
   "execution_count": 9,
   "metadata": {
    "colab": {
     "base_uri": "https://localhost:8080/",
     "height": 34
    },
    "colab_type": "code",
    "id": "yO6O2gXoFfEc",
    "outputId": "5c97b803-60d7-428e-f836-a80c187edf40"
   },
   "outputs": [
    {
     "data": {
      "text/plain": [
       "'2.1.0-rc1'"
      ]
     },
     "execution_count": 9,
     "metadata": {
      "tags": []
     },
     "output_type": "execute_result"
    }
   ],
   "source": [
    "tf.__version__"
   ]
  },
  {
   "cell_type": "code",
   "execution_count": 0,
   "metadata": {
    "colab": {},
    "colab_type": "code",
    "id": "9Fcxi99H6s02"
   },
   "outputs": [],
   "source": [
    "%matplotlib inline"
   ]
  },
  {
   "cell_type": "code",
   "execution_count": 0,
   "metadata": {
    "colab": {},
    "colab_type": "code",
    "id": "jqunw0ad6s04"
   },
   "outputs": [],
   "source": [
    "\"\"\"\n",
    "Because of the following error\n",
    "```\n",
    "\n",
    "OMP: Error #15: Initializing libiomp5.dylib, but found libiomp5.dylib already initialized.\n",
    "OMP: Hint This means that multiple copies of the OpenMP runtime have been linked into the program. \n",
    "That is dangerous, since it can degrade performance or cause incorrect results. \n",
    "The best thing to do is to ensure that only a single OpenMP runtime is linked into the process, \n",
    "e.g. by avoiding static linking of the OpenMP runtime in any library. \n",
    "As an unsafe, unsupported, undocumented workaround you can set the environment variable \n",
    "KMP_DUPLICATE_LIB_OK=TRUE to allow the program to continue to execute, \n",
    "but that may cause crashes or silently produce incorrect results. \n",
    "For more information, please see http://www.intel.com/software/products/support/.\n",
    "\n",
    "\n",
    "\"\"\"\n",
    "\n",
    "\n",
    "import os\n",
    "\n",
    "os.environ['KMP_DUPLICATE_LIB_OK']='True'\n",
    "\n"
   ]
  },
  {
   "cell_type": "markdown",
   "metadata": {
    "colab_type": "text",
    "heading_collapsed": true,
    "id": "TusXtbWh6s06"
   },
   "source": [
    "# Ideas to try\n",
    "\n",
    "1. Regularize the parameters, try a bigger Glove Embedding, try a different embedding?\n",
    "2. Split into test and train sets\n",
    "3. Understand the evaluation metric very well and see if you can obtain that value for the validation set - Is MSE a good loss to optimize?\n",
    "4. Understand RMSProp very well and see what are the tradeoffs? \n",
    "5. Do you need to perform LR schedule? - https://www.kaggle.com/buntyshah/google-quest-q-a-labeling-embeddings-glove?scriptVersionId=25754126#Model this guy has it.\n",
    "6. Do not attempt transformers until you have exhausted all of LSTM based methods."
   ]
  },
  {
   "cell_type": "markdown",
   "metadata": {
    "colab_type": "text",
    "heading_collapsed": true,
    "id": "U7i9O3Yr6s07"
   },
   "source": [
    "# Utility Functions"
   ]
  },
  {
   "cell_type": "code",
   "execution_count": 0,
   "metadata": {
    "colab": {},
    "colab_type": "code",
    "hidden": true,
    "id": "Hj_L4Urd6s08"
   },
   "outputs": [],
   "source": [
    "def clean_text(x):\n",
    "\n",
    "    x = str(x)\n",
    "    for punct in '?!.,\"#$%\\'()*+-/:;<=>@[\\\\]^`{|}~' + '“”’':\n",
    "        x = x.replace(punct, f' {punct}')\n",
    "   \n",
    "    for punct in '!\"#$%&()*+,-./:;<=>?@[\\\\]^_`{|}~\\t\\n“”’\\'∞θ÷α•à−β∅³π‘₹´°£€\\×™√²—_':\n",
    "        x = x.replace(punct, f' {punct}')\n",
    " \n",
    "    return x"
   ]
  },
  {
   "cell_type": "code",
   "execution_count": 0,
   "metadata": {
    "colab": {},
    "colab_type": "code",
    "hidden": true,
    "id": "PITe4-Ip6s0_"
   },
   "outputs": [],
   "source": [
    "def _get_mispell(mispell_dict):\n",
    "    mispell_re = re.compile('(%s)' % '|'.join(mispell_dict.keys()))\n",
    "    return mispell_dict, mispell_re"
   ]
  },
  {
   "cell_type": "code",
   "execution_count": 0,
   "metadata": {
    "colab": {},
    "colab_type": "code",
    "hidden": true,
    "id": "QKMhLENb6s1B"
   },
   "outputs": [],
   "source": [
    "mispell_dict = {\"usepackage\" : \"use package\",\n",
    "                'instrumentsettingsid':'instrumental settings id',\n",
    "                'RippleShaderProgram' : 'ripple shader program',\n",
    "                'ShaderProgramConstants':'shader program constants',\n",
    "                'storedElements':'stored elements',\n",
    "                'stackSize' : 'stack size',\n",
    "                '_':' '\n",
    "\n",
    "                }"
   ]
  },
  {
   "cell_type": "code",
   "execution_count": 0,
   "metadata": {
    "colab": {},
    "colab_type": "code",
    "hidden": true,
    "id": "2RGvgXhp6s1D"
   },
   "outputs": [],
   "source": [
    "mispellings, mispellings_re = _get_mispell(mispell_dict)"
   ]
  },
  {
   "cell_type": "code",
   "execution_count": 0,
   "metadata": {
    "colab": {},
    "colab_type": "code",
    "hidden": true,
    "id": "LfOVuW8j6s1F"
   },
   "outputs": [],
   "source": [
    "def replace_typical_misspell(text):\n",
    "    def replace(match):\n",
    "        return mispellings[match.group(0)]\n",
    "\n",
    "    return mispellings_re.sub(replace, text)"
   ]
  },
  {
   "cell_type": "markdown",
   "metadata": {
    "colab_type": "text",
    "heading_collapsed": true,
    "hidden": true,
    "id": "rCFWCRnb6s1H"
   },
   "source": [
    "## Spearmans Correlation"
   ]
  },
  {
   "cell_type": "code",
   "execution_count": 0,
   "metadata": {
    "colab": {},
    "colab_type": "code",
    "hidden": true,
    "id": "HLU1OsX36s1I"
   },
   "outputs": [],
   "source": [
    "from scipy.stats import spearmanr\n",
    "import math\n",
    "\n",
    "def calculate_mean_spearman_co(a, b):\n",
    "    \"\"\"\n",
    "        Calculates spearmans correlation coefficient \n",
    "        https://en.wikipedia.org/wiki/Spearman%27s_rank_correlation_coefficient\n",
    "        \n",
    "        In the scipy implementation if you pass x and y and if one of them is composed of all same values,\n",
    "        then it returns nan. I am changing those nans to zeros\n",
    "    \"\"\"\n",
    "    print(a.shape, b.shape, len(a.shape))\n",
    "    print(a, b)\n",
    "    if len(a.shape) == 1:\n",
    "        return 0\n",
    "\n",
    "    if a.shape[0] is None and a.shape[1] is None:\n",
    "         return 0\n",
    "         \n",
    "    ans = [spearmanr(a[:, i], b[:, i])[0] for i in range(a.shape[1])]\n",
    "\n",
    "    ans = [0. if math.isnan(elem) else elem for elem in ans]\n",
    "    return np.mean(ans), ans"
   ]
  },
  {
   "cell_type": "markdown",
   "metadata": {
    "colab_type": "text",
    "heading_collapsed": true,
    "id": "IhvrnDO06s1K"
   },
   "source": [
    "# Loading the data"
   ]
  },
  {
   "cell_type": "code",
   "execution_count": 0,
   "metadata": {
    "colab": {},
    "colab_type": "code",
    "hidden": true,
    "id": "lYhLpFSe6s1K"
   },
   "outputs": [],
   "source": [
    "# train_loc = '/kaggle/input/google-quest-challenge/train.csv'\n",
    "# test_loc= '/kaggle/input/google-quest-challenge/test.csv'\n",
    "\n",
    "train_loc = 'google-quest-challenge/train.csv'\n",
    "test_loc= 'google-quest-challenge/test.csv'\n",
    "\n",
    "train_df = pd.read_csv(train_loc)\n",
    "test_df = pd.read_csv(test_loc)\n"
   ]
  },
  {
   "cell_type": "code",
   "execution_count": 0,
   "metadata": {
    "colab": {
     "base_uri": "https://localhost:8080/",
     "height": 34
    },
    "colab_type": "code",
    "hidden": true,
    "id": "qU7Qx9_y6s1N",
    "outputId": "7f538d00-1b64-403c-9778-700391646f65"
   },
   "outputs": [
    {
     "data": {
      "text/plain": [
       "(6079, 476)"
      ]
     },
     "execution_count": 17,
     "metadata": {
      "tags": []
     },
     "output_type": "execute_result"
    }
   ],
   "source": [
    "len(train_df), len(test_df)"
   ]
  },
  {
   "cell_type": "markdown",
   "metadata": {
    "colab_type": "text",
    "heading_collapsed": true,
    "id": "ceR2JPzy6s1P"
   },
   "source": [
    "# Preprocessing"
   ]
  },
  {
   "cell_type": "code",
   "execution_count": 0,
   "metadata": {
    "colab": {},
    "colab_type": "code",
    "hidden": true,
    "id": "8g6lZYhx6s1Q"
   },
   "outputs": [],
   "source": [
    "train_df[\"question_body\"] = train_df[\"question_body\"].apply(clean_text)\n",
    "train_df[\"question_body\"] = train_df[\"question_body\"].apply(replace_typical_misspell)\n",
    "\n",
    "train_df[\"question_title\"] = train_df[\"question_title\"].apply(clean_text)\n",
    "train_df[\"question_title\"] = train_df[\"question_title\"].apply(replace_typical_misspell)\n",
    "\n",
    "train_df[\"category\"] = train_df[\"category\"].apply(clean_text)\n",
    "train_df[\"category\"] = train_df[\"category\"].apply(replace_typical_misspell)\n",
    "\n",
    "train_df[\"answer\"] = train_df[\"answer\"].apply(clean_text)\n",
    "train_df[\"answer\"] = train_df[\"answer\"].apply(replace_typical_misspell)\n",
    "\n",
    "\n",
    "test_df[\"question_body\"] = test_df[\"question_body\"].apply(clean_text)\n",
    "test_df[\"question_body\"] = test_df[\"question_body\"].apply(replace_typical_misspell)\n",
    "\n",
    "test_df[\"question_title\"] = test_df[\"question_title\"].apply(clean_text)\n",
    "test_df[\"question_title\"] = test_df[\"question_title\"].apply(replace_typical_misspell)\n",
    "\n",
    "test_df[\"category\"] = test_df[\"category\"].apply(clean_text)\n",
    "test_df[\"category\"] = test_df[\"category\"].apply(replace_typical_misspell)\n",
    "\n",
    "test_df[\"answer\"] = test_df[\"answer\"].apply(clean_text)\n",
    "test_df[\"answer\"] = test_df[\"answer\"].apply(replace_typical_misspell)"
   ]
  },
  {
   "cell_type": "code",
   "execution_count": 0,
   "metadata": {
    "colab": {
     "base_uri": "https://localhost:8080/",
     "height": 1000
    },
    "colab_type": "code",
    "hidden": true,
    "id": "buXilGe46s1S",
    "outputId": "4f148dd6-7687-474d-c91a-2fb5462f8bac"
   },
   "outputs": [
    {
     "data": {
      "text/plain": [
       "<matplotlib.axes._subplots.AxesSubplot at 0x7fe889aee3c8>"
      ]
     },
     "execution_count": 19,
     "metadata": {
      "tags": []
     },
     "output_type": "execute_result"
    },
    {
     "data": {
      "image/png": "[encoded data removed]",
      "text/plain": [
       "<Figure size 1296x1296 with 2 Axes>"
      ]
     },
     "metadata": {
      "tags": []
     },
     "output_type": "display_data"
    }
   ],
   "source": [
    "TARGET_COLUMN_NAMES = ['question_asker_intent_understanding', 'question_body_critical',\n",
    "       'question_conversational', 'question_expect_short_answer',\n",
    "       'question_fact_seeking', 'question_has_commonly_accepted_answer',\n",
    "       'question_interestingness_others', 'question_interestingness_self',\n",
    "       'question_multi_intent', 'question_not_really_a_question',\n",
    "       'question_opinion_seeking', 'question_type_choice',\n",
    "       'question_type_compare', 'question_type_consequence',\n",
    "       'question_type_definition', 'question_type_entity',\n",
    "       'question_type_instructions', 'question_type_procedure',\n",
    "       'question_type_reason_explanation', 'question_type_spelling',\n",
    "       'question_well_written', 'answer_helpful',\n",
    "       'answer_level_of_information', 'answer_plausible', 'answer_relevance',\n",
    "       'answer_satisfaction', 'answer_type_instructions',\n",
    "       'answer_type_procedure', 'answer_type_reason_explanation',\n",
    "       'answer_well_written']\n",
    "fig, ax = plt.subplots(figsize=(18, 18))\n",
    "\n",
    "sns.heatmap(train_df[TARGET_COLUMN_NAMES].corr(), ax=ax)"
   ]
  },
  {
   "cell_type": "markdown",
   "metadata": {
    "colab_type": "text",
    "id": "CAUH03EO6s1U"
   },
   "source": [
    "# Model starts"
   ]
  },
  {
   "cell_type": "markdown",
   "metadata": {
    "colab_type": "text",
    "id": "9WcH1Byk6s1V"
   },
   "source": [
    "## Building Vocabulary"
   ]
  },
  {
   "cell_type": "code",
   "execution_count": 0,
   "metadata": {
    "colab": {},
    "colab_type": "code",
    "id": "hGPd8kJ06s1V"
   },
   "outputs": [],
   "source": [
    "def build_vocabulary(instances: List[Dict],\n",
    "                     vocab_size: 10000,\n",
    "                     text_column_names: List[str]) -> Tuple[Dict, Dict]:\n",
    "    \"\"\"\n",
    "    Given the instances and max vocab size, this function builds the\n",
    "    token to index and index to token vocabularies. If list of add_tokens are\n",
    "    passed, those words will be added first.\n",
    "    Parameters\n",
    "    ----------\n",
    "    instances : ``List[Dict]``\n",
    "        List of instance returned by read_instances from which we want\n",
    "        to build the vocabulary.\n",
    "    vocab_size : ``int``\n",
    "        Maximum size of vocabulary\n",
    "    text_column_names : ``List[str]``\n",
    "        These are the column names (key names) of the required text fields.\n",
    "     \"\"\"\n",
    "    print(\"\\nBuilding Vocabulary.\")\n",
    "\n",
    "    # make sure pad_token is on index 0\n",
    "    UNK_TOKEN = \"@UNK@\"\n",
    "    PAD_TOKEN = \"@PAD@\"\n",
    "    UNK_POS = \"@POS@\"\n",
    "    token_to_id = {PAD_TOKEN: 0, UNK_TOKEN: 1, UNK_POS: 2}\n",
    "\n",
    "    # Add remaining tokens from the instances as the space permits\n",
    "    words = []\n",
    "    for instance in all_train_data:\n",
    "        [words.extend(instance[key].split()) for key in text_column_names]\n",
    "        for key in text_column_names:\n",
    "            words.extend(instance[key].split())\n",
    "            \n",
    "    token_counts = dict(Counter(words).most_common(vocab_size))\n",
    "    for token, _ in token_counts.items():\n",
    "        if token not in token_to_id:\n",
    "            token_to_id[token] = len(token_to_id)\n",
    "        if len(token_to_id) == vocab_size:\n",
    "            break\n",
    "\n",
    "    # add pos tags to vocab\n",
    "#     for tag in util.TAG_MAP:\n",
    "#         if tag not in token_to_id:\n",
    "#             token_to_id[tag] = len(token_to_id)\n",
    "#         if len(token_to_id) == vocab_size:\n",
    "#             break\n",
    "\n",
    "    # Make reverse vocabulary lookup\n",
    "    id_to_token = dict(zip(token_to_id.values(), token_to_id.keys()))\n",
    "    return (token_to_id, id_to_token)"
   ]
  },
  {
   "cell_type": "code",
   "execution_count": 0,
   "metadata": {
    "colab": {},
    "colab_type": "code",
    "id": "-FEuhNzI6s1X"
   },
   "outputs": [],
   "source": [
    "def convert_to_ids(instances: List[Dict], \n",
    "                   vocab_token_to_id: Dict[str, int],\n",
    "                   text_column_names: List[str]) -> List[Dict]:\n",
    "    \"\"\"\n",
    "        For a given training instance, it returns the tokenized version of its text contents\n",
    "        OUTPUT: in the key 'all', you find the token_ids for the concatenated question_text, question_body etc\n",
    "    \"\"\"\n",
    "    \n",
    "    for instance in instances:\n",
    "        total = []\n",
    "        \n",
    "        for key in text_column_names:\n",
    "            sentence = instance[key]\n",
    "            ids = []\n",
    "            for token in sentence.split():\n",
    "                if token in vocab_token_to_id:\n",
    "                    ids.append(vocab_token_to_id[token])\n",
    "                else:\n",
    "                    ids.append(vocab_token_to_id['@UNK@'])\n",
    "            \n",
    "            new_key = key+'_id'\n",
    "            \n",
    "            instance[new_key] = ids\n",
    "            \n",
    "            total.extend(ids)\n",
    "        \n",
    "        instance['all'] = total\n",
    "\n",
    "            \n",
    "    return instances"
   ]
  },
  {
   "cell_type": "code",
   "execution_count": 0,
   "metadata": {
    "colab": {},
    "colab_type": "code",
    "id": "NJ9CD9PH6s1d"
   },
   "outputs": [],
   "source": [
    "def generate_batches(instances: List[Dict],\n",
    "                     bsz: int,\n",
    "                     text_column_names: List[str],\n",
    "                     target_column_names: List[str],\n",
    "                     training: bool=True) -> List[Dict[str, np.ndarray]]:\n",
    "    \"\"\"\n",
    "        Crates batches of tensor inputs that can be directly fed to the model\n",
    "    \"\"\"\n",
    "    result = []\n",
    "    max_token_lengths = 6300\n",
    "    for index in tqdm(range(0, len(instances), bsz)):\n",
    "        batch = instances[index: index + bsz]\n",
    "        \n",
    "        # token_lengths = [len(b['all']) for b in batch]\n",
    "        # max_token_lengths = max(token_lengths)\n",
    "        \n",
    "        num_elements_in_batch = min(len(batch), bsz)\n",
    "        \n",
    "        if training:\n",
    "            real_batch = {\n",
    "                'X': np.zeros((num_elements_in_batch, max_token_lengths), dtype=np.int32), \n",
    "                'Y': np.zeros((num_elements_in_batch, len(target_column_names)), dtype=np.float64)\n",
    "            }\n",
    "        else:\n",
    "            real_batch = {\n",
    "                'X': np.zeros((num_elements_in_batch, max_token_lengths), dtype=np.int32)\n",
    "            }\n",
    "        \n",
    "        for idx, elem in enumerate(batch):\n",
    "            inputs = np.array(elem['all'])\n",
    "            token_len = len(inputs)\n",
    "            real_batch['X'][idx][:token_len] = inputs\n",
    "            if training:\n",
    "                outputs = np.array([elem[k] for k in target_column_names] )\n",
    "                real_batch['Y'][idx] = outputs\n",
    "                \n",
    "        result.append(real_batch)\n",
    "        \n",
    "    return result"
   ]
  },
  {
   "cell_type": "code",
   "execution_count": 0,
   "metadata": {
    "colab": {},
    "colab_type": "code",
    "id": "8n_Qqwsa6s1g"
   },
   "outputs": [],
   "source": [
    "all_train_data = train_df.to_dict('records')\n",
    "all_test_data = test_df.to_dict('records')"
   ]
  },
  {
   "cell_type": "code",
   "execution_count": 0,
   "metadata": {
    "colab": {
     "base_uri": "https://localhost:8080/",
     "height": 34
    },
    "colab_type": "code",
    "id": "OmB-njoY6s1j",
    "outputId": "ee41fd3c-4c89-47d3-a07c-d8579defd3d2"
   },
   "outputs": [
    {
     "name": "stdout",
     "output_type": "stream",
     "text": [
      "length of all train data :: 6555, len of train data:: 6079, len of test data:: 476\n"
     ]
    }
   ],
   "source": [
    "all_data = all_train_data + all_test_data\n",
    "print(f'length of all train data :: {len(all_data)}, len of train data:: {len(all_train_data)}, len of test data:: {len(all_test_data)}')"
   ]
  },
  {
   "cell_type": "code",
   "execution_count": 0,
   "metadata": {
    "colab": {},
    "colab_type": "code",
    "id": "whE7zWjG6s1m"
   },
   "outputs": [],
   "source": [
    "VOCAB_SIZE = 100000\n",
    "BSZ = 128\n",
    "TEXT_COLUMN_NAMES = ['question_title', 'question_body', 'answer', 'category']\n",
    "TARGET_COLUMN_NAMES = ['question_asker_intent_understanding', 'question_body_critical',\n",
    "       'question_conversational', 'question_expect_short_answer',\n",
    "       'question_fact_seeking', 'question_has_commonly_accepted_answer',\n",
    "       'question_interestingness_others', 'question_interestingness_self',\n",
    "       'question_multi_intent', 'question_not_really_a_question',\n",
    "       'question_opinion_seeking', 'question_type_choice',\n",
    "       'question_type_compare', 'question_type_consequence',\n",
    "       'question_type_definition', 'question_type_entity',\n",
    "       'question_type_instructions', 'question_type_procedure',\n",
    "       'question_type_reason_explanation', 'question_type_spelling',\n",
    "       'question_well_written', 'answer_helpful',\n",
    "       'answer_level_of_information', 'answer_plausible', 'answer_relevance',\n",
    "       'answer_satisfaction', 'answer_type_instructions',\n",
    "       'answer_type_procedure', 'answer_type_reason_explanation',\n",
    "       'answer_well_written']"
   ]
  },
  {
   "cell_type": "code",
   "execution_count": 0,
   "metadata": {
    "colab": {
     "base_uri": "https://localhost:8080/",
     "height": 50
    },
    "colab_type": "code",
    "id": "KtVdcrIE6s1o",
    "outputId": "2765e138-46af-4a2c-ded3-52a2063fb8ec"
   },
   "outputs": [
    {
     "name": "stdout",
     "output_type": "stream",
     "text": [
      "\n",
      "Building Vocabulary.\n"
     ]
    }
   ],
   "source": [
    "vocab_token_to_id, vocab_id_to_token = build_vocabulary(all_data, VOCAB_SIZE, TEXT_COLUMN_NAMES, )"
   ]
  },
  {
   "cell_type": "code",
   "execution_count": 0,
   "metadata": {
    "colab": {},
    "colab_type": "code",
    "id": "NfWSyggW6s1q"
   },
   "outputs": [],
   "source": [
    "all_data = convert_to_ids(all_data, vocab_token_to_id, TEXT_COLUMN_NAMES)"
   ]
  },
  {
   "cell_type": "code",
   "execution_count": 0,
   "metadata": {
    "colab": {},
    "colab_type": "code",
    "id": "v5yykiml6s1s"
   },
   "outputs": [],
   "source": [
    "idx = len(all_train_data)\n",
    "train_data = all_data[:idx]\n",
    "test_data = all_data[idx:]"
   ]
  },
  {
   "cell_type": "code",
   "execution_count": 0,
   "metadata": {
    "colab": {
     "base_uri": "https://localhost:8080/",
     "height": 34
    },
    "colab_type": "code",
    "id": "qwig5MFk6s1u",
    "outputId": "ee0ee755-6999-4778-b205-f9d9adbac35e"
   },
   "outputs": [
    {
     "name": "stderr",
     "output_type": "stream",
     "text": [
      "100%|██████████| 48/48 [00:00<00:00, 175.70it/s]\n"
     ]
    }
   ],
   "source": [
    "train_batches = generate_batches(train_data, BSZ, TEXT_COLUMN_NAMES, TARGET_COLUMN_NAMES)"
   ]
  },
  {
   "cell_type": "markdown",
   "metadata": {
    "colab_type": "text",
    "id": "m71VmaUL6s1w"
   },
   "source": [
    "## Loading Glove Embeddings"
   ]
  },
  {
   "cell_type": "code",
   "execution_count": 0,
   "metadata": {
    "colab": {},
    "colab_type": "code",
    "id": "3bGP06zv6s1w"
   },
   "outputs": [],
   "source": [
    "def load_embedding_matrix(embedding_loc: str, \n",
    "                          embedding_dim: int, \n",
    "                          vocab_id_to_token: Dict[int, str]) -> np.ndarray:\n",
    "    embeddings = {}\n",
    "    vocab_size = len(vocab_id_to_token)\n",
    "    \n",
    "    print(f'Reading embedding dimension info from {embedding_loc}')\n",
    "    with open(embedding_loc) as file:\n",
    "        for i, line in enumerate(tqdm(file)):\n",
    "            token = line.split(' ', 1)[0]\n",
    "            vecs = fields = line.rstrip().split(' ')\n",
    "            vector = np.asarray(vecs[1:], dtype='float32')\n",
    "            embeddings[token] = vector\n",
    "            \n",
    "        \n",
    "    print(f'Creating Embedding Matrix')\n",
    "    \n",
    "    all_embeddings = np.asarray(list(embeddings.values()))\n",
    "    embeddings_mean = float(np.mean(all_embeddings))\n",
    "    embeddings_std = float(np.std(all_embeddings))\n",
    "    \n",
    "    # I think this is done so that for unk tokens we have the mean and std\n",
    "    # as the default representation\n",
    "    embedding_matrix = np.random.normal(embeddings_mean, embeddings_std,\n",
    "                                        (vocab_size, embedding_dim))\n",
    "    \n",
    "    for idx, token in vocab_id_to_token.items():\n",
    "        if token in embeddings:\n",
    "            embedding_matrix[idx] = embeddings[token]\n",
    "            \n",
    "    return embedding_matrix"
   ]
  },
  {
   "cell_type": "code",
   "execution_count": 0,
   "metadata": {
    "colab": {
     "base_uri": "https://localhost:8080/",
     "height": 67
    },
    "colab_type": "code",
    "id": "vgl69G9H6s1y",
    "outputId": "ae0ad55c-cc4d-4393-bdb1-5b798071df2d"
   },
   "outputs": [
    {
     "name": "stderr",
     "output_type": "stream",
     "text": [
      "6574it [00:00, 65738.81it/s]"
     ]
    },
    {
     "name": "stdout",
     "output_type": "stream",
     "text": [
      "Reading embedding dimension info from glove.6B.50d.txt\n"
     ]
    },
    {
     "name": "stderr",
     "output_type": "stream",
     "text": [
      "400000it [00:05, 72996.17it/s]\n"
     ]
    },
    {
     "name": "stdout",
     "output_type": "stream",
     "text": [
      "Creating Embedding Matrix\n"
     ]
    }
   ],
   "source": [
    "GLOVE_LOC = 'glove.6B.50d.txt'\n",
    "# GLOVE_LOC = '/kaggle/input/glove-global-vectors-for-word-representation/glove.6B.50d.txt'\n",
    "\n",
    "EMBEDDING_DIM = 50\n",
    "\n",
    "embedding_matrix = load_embedding_matrix(GLOVE_LOC, EMBEDDING_DIM, vocab_id_to_token)"
   ]
  },
  {
   "cell_type": "markdown",
   "metadata": {
    "colab_type": "text",
    "id": "TgGzhn596s10"
   },
   "source": [
    "## Building the Model"
   ]
  },
  {
   "cell_type": "code",
   "execution_count": 0,
   "metadata": {
    "colab": {},
    "colab_type": "code",
    "id": "ijZU_WPq6s11"
   },
   "outputs": [],
   "source": [
    "LSTM_UNITS = 64\n",
    "DENSE_HIDDEN_UNITS = 4 * LSTM_UNITS"
   ]
  },
  {
   "cell_type": "code",
   "execution_count": 0,
   "metadata": {
    "colab": {},
    "colab_type": "code",
    "id": "xAOHMguV6s12"
   },
   "outputs": [],
   "source": [
    "class MyModel(models.Model):\n",
    "    def __init__(self, embedding_dim, vocab_size):\n",
    "        super(MyModel, self).__init__()\n",
    "        \n",
    "        hidden_size = LSTM_UNITS\n",
    "        \n",
    "        self.embeddings = tf.Variable(tf.random.normal((vocab_size, embedding_dim)))\n",
    "        \n",
    "        model = models.Sequential()\n",
    "        forward_layer = layers.LSTM(hidden_size, return_sequences=True)\n",
    "        backward_layer = layers.LSTM(hidden_size, return_sequences=True, go_backwards=True)\n",
    "        model.add(layers.Bidirectional(forward_layer, backward_layer=backward_layer))\n",
    "        \n",
    "        self.model = model\n",
    "        self.d1 = Dense(DENSE_HIDDEN_UNITS, activation='relu')\n",
    "        self.d2 = Dense(DENSE_HIDDEN_UNITS, activation='relu')\n",
    "        self.d3 = Dense(30, activation='sigmoid')\n",
    "        \n",
    "        \n",
    "    def call(self, inputs, training):\n",
    "        word_embeds = tf.nn.embedding_lookup(self.embeddings, inputs)\n",
    "#         print('word_embeds.shape', word_embeds.shape)\n",
    "        # tokens_mask = tf.convert_to_tensor(inputs!=0, dtype=tf.bool)\n",
    "        # print('inputs.shape', inputs.shape, inputs.dtype)\n",
    "        tokens_mask = inputs != 0\n",
    "        # print(\"tokens_mask\", tokens_mask)\n",
    "        \n",
    "        x = self.model(word_embeds, mask=tokens_mask) #[bsz x tokens x 128]\n",
    "        #concat([ [bsz x 128], [bsz x  128] ])\n",
    "        hidden = layers.concatenate([GlobalMaxPooling1D()(x), GlobalAveragePooling1D()(x)])\n",
    "        \n",
    "        # Skip connections here\n",
    "        hidden = layers.add([hidden, self.d1(hidden)])\n",
    "        hidden = layers.add([hidden, self.d2(hidden)])\n",
    "        \n",
    "        hidden = self.d3(hidden)\n",
    "#         print('x.shape', x.shape)\n",
    "#         print('hidden.shape', hidden.shape)\n",
    "        return hidden\n"
   ]
  },
  {
   "cell_type": "code",
   "execution_count": 0,
   "metadata": {
    "colab": {},
    "colab_type": "code",
    "id": "hw7NU-j06s14"
   },
   "outputs": [],
   "source": [
    "optimizer = optimizers.RMSprop()"
   ]
  },
  {
   "cell_type": "code",
   "execution_count": 0,
   "metadata": {
    "colab": {},
    "colab_type": "code",
    "id": "QdhLAn0E6s17"
   },
   "outputs": [],
   "source": [
    "model = MyModel(EMBEDDING_DIM, VOCAB_SIZE)\n",
    "model.embeddings = tf.convert_to_tensor(embedding_matrix, dtype=tf.float32)"
   ]
  },
  {
   "cell_type": "code",
   "execution_count": 0,
   "metadata": {
    "colab": {
     "base_uri": "https://localhost:8080/",
     "height": 34
    },
    "colab_type": "code",
    "id": "xEzP9H2E6s18",
    "outputId": "d0893b33-aaf4-4617-b355-f8aa1e408021"
   },
   "outputs": [
    {
     "data": {
      "text/plain": [
       "{'divide': 'warn', 'invalid': 'warn', 'over': 'warn', 'under': 'ignore'}"
      ]
     },
     "execution_count": 36,
     "metadata": {
      "tags": []
     },
     "output_type": "execute_result"
    }
   ],
   "source": [
    "np.seterr(divide='ignore', invalid='ignore')"
   ]
  },
  {
   "cell_type": "code",
   "execution_count": 0,
   "metadata": {
    "colab": {},
    "colab_type": "code",
    "id": "FdhpDrALGS_W"
   },
   "outputs": [],
   "source": [
    "# for i in tnrange(10, desc='1st loop'):\n",
    "#     for j in tqdm_notebook(range(100), desc='2nd loop'):\n",
    "#         time.sleep(0.01)"
   ]
  },
  {
   "cell_type": "code",
   "execution_count": 0,
   "metadata": {
    "colab": {
     "base_uri": "https://localhost:8080/",
     "height": 537,
     "referenced_widgets": [
      "5b89d854981442c49f4fac775b49f980",
      "ca974ff588a9427eaec6c75e8e229920",
      "9aa84253ef6b496794fb99954271f2f4",
      "eae8f35795f648799628d29371071cb4",
      "7bb5bd50d24d420d91dfb7eeae31b8eb",
      "048041db3d014d0e93febbe1f1a8b310",
      "e1e91a7874e749fbb27ffcd4a76a799d",
      "33161d5dfcd7454f909977da53735c93",
      "d73bbb528bc6404ea7ba9b25e532c197",
      "1f6da25831b64f849a967bdcd2b5b7cc",
      "39a2cb06c9b244c8a01346bed9484d12",
      "9bbee8f886f3448b9105455997070549",
      "daeb03da065b47bab36d912fab2336e6",
      "0df66bbde1a540a48158858f8dbe6436",
      "376a619a060c494c87cd060dc991876c",
      "04181cdb2dd5440a8b9d3a6302d684a1",
      "da993d4848a847e5a7a67d4be21a4d18",
      "994823606deb46a7b18a93c667e16563",
      "df5fcfb61a554b68bc41dae7e044c318",
      "db014efa7910494bbf6b0d61c96f7734",
      "4c599a621b134bf1bc91be50272206d2",
      "edd3b5420eb14dd8929d0cbaa89866fc",
      "dacc71f9e12e4eb291e902093adf284c",
      "e3082940a72f4a0d8a5892264280ef88",
      "e6c993f22957480d9d987fe28fd89310",
      "0905fb89f9284cf4aaaececefd568a0f",
      "f6202a93a9be416994d9fe42b6842266",
      "d75a4763d84d45c7a55d97f488c48832",
      "4fe4078d44b847c3b027afdaab84557d",
      "a4d1ecbf65df4d53870ddcaf77e58c9b",
      "4855545792864ff19d9499b293d0e9d6",
      "85f8acd5b9c0422f80186f763be79b27",
      "b0cd1a8ab5c84fa58c5dcc5164f4cbdf",
      "15d6e82a455c4486a8ebfea251c25ea6",
      "9f2c40443bd84c2fbec69054409678ad",
      "958d1f108f6e4b2e88e3741c7768551b",
      "79b8702fb9fb4352bb1c332e828431ad",
      "e9e3373fd391443f99b1d1ab1d579c45",
      "77979ff44c024998a1b20e65b4fc453e",
      "c80942ca5d0d4b9cae03738cfcc31e80",
      "207941e2aa0541ecaf80985e1d8d8c9a",
      "5bfb63ccc7d04acc92acc34fcba9612f",
      "76e56c02c2004c3ea04e38a1a26985c6",
      "081421ae7b144452b544f1cafe304edf",
      "001688bfc40b42e2b4f73b5ba79d3fac",
      "3cd279af80ad4e7a8bdbf2d061acd6c4",
      "d03817b463db4d3da8fa5961c51e6ca6",
      "c52f555a3cea4198abc215372f4ab246",
      "f3fc32263d414b6e85774334c227711c",
      "878f57ba67bf463a95423552f96ac7a5",
      "5c9b22e9a8144056b36ffa3404948d45",
      "be353525d1dc460587771dad266c6520",
      "6b86cd2095ab40e78263e2614f77870d",
      "7b204cdae86549cd84e9f6bb193d814f",
      "02cdc1f9ebe540359e76e95203ecbbd7",
      "b04c580586f34005a0c77ae5efa7effb",
      "997be2a59ae74dcba094247089fb4ce2",
      "d6a7b97b866248c0bee6cdac639135ea",
      "928a8cd5cf6c44afa277f1292d73fb69",
      "15bc41dcce33464a9df627f66b01cd76",
      "5ffccd2fe78c48c9b3748e274665a0b7",
      "b5686fc668f447bd84e7d70b514236ab",
      "9a50f83a58eb450f8b51d1a42b1819cb",
      "3db7a3779b5a456ab207983ceae07998",
      "5739d2d8acec4104a9afaec16224b76e",
      "2a0ec75e6c5e4612bc708a257edb08d6",
      "334e9e60fdd64edea4da551020099e24",
      "382d4a51b30444bcb93eec791d47aefa",
      "28a0615dc6b546d4a5f28cd80a435091",
      "daba1200bf5e4ff290bd787f6b1c9de3",
      "673cb41b783042268b3c512341473cc5",
      "a71ab14d922a4f37961e518489f4766e",
      "3697192be21c4997b34b3444e92ee231",
      "ddf404f6532b4421ac6d735e0da64d65",
      "75f57f4c7d17492eb1e66f642d19bac5",
      "90092dd05de94d1caf0ccb4c60d0315c",
      "495d0b24ff4e4345a87b21fbc7bef7cb",
      "217a02865326480d88edbed4fb49c7cd",
      "dbcf8951587d493cbc032e97c6b137e7",
      "a3977df447e840c4af307e9911402630",
      "74fba0b1ce26450e82dd518e22fad6c7",
      "ff1152ae8a2540b09a8ee6a20cfb1ca5",
      "8f691455861646c48c078bd1354c84a0",
      "40db451c5c8245858abe6bd22472a314",
      "4ac9eec28fb94c1c9235aa733d1636f7",
      "b6d6c32aa42546879bb0ff5032f12674",
      "314543ba66374999899bd601e27fe758",
      "b888b145cb9a4711bc980681515edc23"
     ]
    },
    "colab_type": "code",
    "id": "tEf7i9la6s2C",
    "outputId": "af71d96a-0767-464d-87f4-7ef7e887b819"
   },
   "outputs": [
    {
     "data": {
      "application/vnd.jupyter.widget-view+json": {
       "model_id": "5b89d854981442c49f4fac775b49f980",
       "version_major": 2,
       "version_minor": 0
      },
      "text/plain": [
       "HBox(children=(IntProgress(value=0, description='Epoch', max=10, style=ProgressStyle(description_width='initia…"
      ]
     },
     "metadata": {
      "tags": []
     },
     "output_type": "display_data"
    },
    {
     "data": {
      "application/vnd.jupyter.widget-view+json": {
       "model_id": "d73bbb528bc6404ea7ba9b25e532c197",
       "version_major": 2,
       "version_minor": 0
      },
      "text/plain": [
       "HBox(children=(IntProgress(value=1, bar_style='info', max=1), HTML(value='')))"
      ]
     },
     "metadata": {
      "tags": []
     },
     "output_type": "display_data"
    },
    {
     "name": "stdout",
     "output_type": "stream",
     "text": [
      "Epoch 0 - loss: 0.06325102597475052, -spearman: 0.20654752534050055\n"
     ]
    },
    {
     "data": {
      "application/vnd.jupyter.widget-view+json": {
       "model_id": "da993d4848a847e5a7a67d4be21a4d18",
       "version_major": 2,
       "version_minor": 0
      },
      "text/plain": [
       "HBox(children=(IntProgress(value=1, bar_style='info', max=1), HTML(value='')))"
      ]
     },
     "metadata": {
      "tags": []
     },
     "output_type": "display_data"
    },
    {
     "name": "stdout",
     "output_type": "stream",
     "text": [
      "Epoch 1 - loss: 0.055191513150930405, -spearman: 0.26526075808875077\n"
     ]
    },
    {
     "data": {
      "application/vnd.jupyter.widget-view+json": {
       "model_id": "e6c993f22957480d9d987fe28fd89310",
       "version_major": 2,
       "version_minor": 0
      },
      "text/plain": [
       "HBox(children=(IntProgress(value=1, bar_style='info', max=1), HTML(value='')))"
      ]
     },
     "metadata": {
      "tags": []
     },
     "output_type": "display_data"
    },
    {
     "name": "stdout",
     "output_type": "stream",
     "text": [
      "Epoch 2 - loss: 0.05325987935066223, -spearman: 0.2875819955533728\n"
     ]
    },
    {
     "data": {
      "application/vnd.jupyter.widget-view+json": {
       "model_id": "b0cd1a8ab5c84fa58c5dcc5164f4cbdf",
       "version_major": 2,
       "version_minor": 0
      },
      "text/plain": [
       "HBox(children=(IntProgress(value=1, bar_style='info', max=1), HTML(value='')))"
      ]
     },
     "metadata": {
      "tags": []
     },
     "output_type": "display_data"
    },
    {
     "name": "stdout",
     "output_type": "stream",
     "text": [
      "Epoch 3 - loss: 0.051716387271881104, -spearman: 0.29566735009459644\n"
     ]
    },
    {
     "data": {
      "application/vnd.jupyter.widget-view+json": {
       "model_id": "207941e2aa0541ecaf80985e1d8d8c9a",
       "version_major": 2,
       "version_minor": 0
      },
      "text/plain": [
       "HBox(children=(IntProgress(value=1, bar_style='info', max=1), HTML(value='')))"
      ]
     },
     "metadata": {
      "tags": []
     },
     "output_type": "display_data"
    },
    {
     "name": "stdout",
     "output_type": "stream",
     "text": [
      "Epoch 4 - loss: 0.05076584219932556, -spearman: 0.301845956329067\n"
     ]
    },
    {
     "data": {
      "application/vnd.jupyter.widget-view+json": {
       "model_id": "f3fc32263d414b6e85774334c227711c",
       "version_major": 2,
       "version_minor": 0
      },
      "text/plain": [
       "HBox(children=(IntProgress(value=1, bar_style='info', max=1), HTML(value='')))"
      ]
     },
     "metadata": {
      "tags": []
     },
     "output_type": "display_data"
    },
    {
     "name": "stdout",
     "output_type": "stream",
     "text": [
      "Epoch 5 - loss: 0.04997800290584564, -spearman: 0.3060626362964134\n"
     ]
    },
    {
     "data": {
      "application/vnd.jupyter.widget-view+json": {
       "model_id": "997be2a59ae74dcba094247089fb4ce2",
       "version_major": 2,
       "version_minor": 0
      },
      "text/plain": [
       "HBox(children=(IntProgress(value=1, bar_style='info', max=1), HTML(value='')))"
      ]
     },
     "metadata": {
      "tags": []
     },
     "output_type": "display_data"
    },
    {
     "name": "stdout",
     "output_type": "stream",
     "text": [
      "Epoch 6 - loss: 0.04924881458282471, -spearman: 0.33527889229887436\n"
     ]
    },
    {
     "data": {
      "application/vnd.jupyter.widget-view+json": {
       "model_id": "5739d2d8acec4104a9afaec16224b76e",
       "version_major": 2,
       "version_minor": 0
      },
      "text/plain": [
       "HBox(children=(IntProgress(value=1, bar_style='info', max=1), HTML(value='')))"
      ]
     },
     "metadata": {
      "tags": []
     },
     "output_type": "display_data"
    },
    {
     "name": "stdout",
     "output_type": "stream",
     "text": [
      "Epoch 7 - loss: 0.04816919192671776, -spearman: 0.3392803268048414\n"
     ]
    },
    {
     "data": {
      "application/vnd.jupyter.widget-view+json": {
       "model_id": "3697192be21c4997b34b3444e92ee231",
       "version_major": 2,
       "version_minor": 0
      },
      "text/plain": [
       "HBox(children=(IntProgress(value=1, bar_style='info', max=1), HTML(value='')))"
      ]
     },
     "metadata": {
      "tags": []
     },
     "output_type": "display_data"
    },
    {
     "name": "stdout",
     "output_type": "stream",
     "text": [
      "Epoch 8 - loss: 0.04761625826358795, -spearman: 0.3368770818915327\n"
     ]
    },
    {
     "data": {
      "application/vnd.jupyter.widget-view+json": {
       "model_id": "74fba0b1ce26450e82dd518e22fad6c7",
       "version_major": 2,
       "version_minor": 0
      },
      "text/plain": [
       "HBox(children=(IntProgress(value=1, bar_style='info', max=1), HTML(value='')))"
      ]
     },
     "metadata": {
      "tags": []
     },
     "output_type": "display_data"
    },
    {
     "name": "stdout",
     "output_type": "stream",
     "text": [
      "Epoch 9 - loss: 0.04678788408637047, -spearman: 0.35002203589561104\n"
     ]
    }
   ],
   "source": [
    "n_epochs = 10\n",
    "for epoch in tqdm_notebook(range(n_epochs), desc='Epoch'):\n",
    "    total_loss = 0\n",
    "    total_spearman = []\n",
    "    for index, batch in tqdm_notebook(enumerate(train_batches)):\n",
    "        with tf.GradientTape() as tape:\n",
    "            output = model(batch['X'], True) # [10 x 30]\n",
    "            loss = tf.keras.losses.MSE(batch['Y'], output) #[10,]\n",
    "            _, spearman = calculate_mean_spearman_co(batch['Y'], output)\n",
    "            loss = tf.reduce_mean(loss)    \n",
    "        grads = tape.gradient(loss, model.trainable_variables)\n",
    "\n",
    "        optimizer.apply_gradients(zip(grads, model.trainable_variables))\n",
    "        \n",
    "        total_loss += loss\n",
    "        total_spearman += spearman\n",
    "#         print(f'{index}, loss: {loss}, {len(total_spearman)}, {len(spearman)}, {total_loss}')\n",
    "        \n",
    "    print(f'Epoch {epoch} - loss: {total_loss/len(train_batches)}, -spearman: {np.mean(spearman)}')\n",
    "    # break"
   ]
  },
  {
   "cell_type": "markdown",
   "metadata": {
    "colab_type": "text",
    "id": "bIUqB90g6s2D"
   },
   "source": [
    "## Evaluation"
   ]
  },
  {
   "cell_type": "code",
   "execution_count": 0,
   "metadata": {
    "colab": {},
    "colab_type": "code",
    "id": "dWhOSTsQ6s2E"
   },
   "outputs": [],
   "source": [
    "class ModelTest(models.Model):\n",
    "    def __init__(self):\n",
    "        super(ModelTest, self).__init__()\n",
    "        self.emb = Embedding(*embedding_matrix.shape, weights=[embedding_matrix], trainable=False)\n",
    "\n",
    "    def call(self, inputs):\n",
    "        out = self.emb(inputs)\n",
    "        return out"
   ]
  },
  {
   "cell_type": "code",
   "execution_count": 0,
   "metadata": {
    "colab": {},
    "colab_type": "code",
    "id": "vyfEG8CqJqCa"
   },
   "outputs": [],
   "source": [
    "m = ModelTest()"
   ]
  },
  {
   "cell_type": "code",
   "execution_count": 0,
   "metadata": {
    "colab": {},
    "colab_type": "code",
    "id": "cBd6fBvCJttu"
   },
   "outputs": [],
   "source": [
    "out = m(train_batches[0]['X'])"
   ]
  },
  {
   "cell_type": "code",
   "execution_count": 0,
   "metadata": {
    "colab": {
     "base_uri": "https://localhost:8080/",
     "height": 34
    },
    "colab_type": "code",
    "id": "Steg442hJ30Q",
    "outputId": "f2094f7b-bc79-4a75-c73a-e1a4614f3ff0"
   },
   "outputs": [
    {
     "data": {
      "text/plain": [
       "(TensorShape([128, 6300, 50]), (128, 6300))"
      ]
     },
     "execution_count": 63,
     "metadata": {
      "tags": []
     },
     "output_type": "execute_result"
    }
   ],
   "source": [
    "out.shape, train_batches[0]['X'].shape"
   ]
  },
  {
   "cell_type": "code",
   "execution_count": 0,
   "metadata": {
    "colab": {},
    "colab_type": "code",
    "id": "dqwudFVH6s2F"
   },
   "outputs": [],
   "source": [
    "e = Embedding(*embedding_matrix.shape, weights=[embedding_matrix], trainable=False)"
   ]
  },
  {
   "cell_type": "code",
   "execution_count": 0,
   "metadata": {
    "colab": {},
    "colab_type": "code",
    "id": "2iXo444a6s2H"
   },
   "outputs": [],
   "source": [
    "words = Input(shape=(None, ))\n",
    "x = Embedding(*embedding_matrix.shape, weights=[embedding_matrix], trainable=False)(words)\n",
    "x = Bidirectional(LSTM(LSTM_UNITS, return_sequences=True))(x)\n",
    "x = Bidirectional(LSTM(LSTM_UNITS, return_sequences=True))(x)\n",
    "\n",
    "hidden = concatenate([\n",
    "        GlobalMaxPooling1D()(x),\n",
    "        GlobalAveragePooling1D()(x),\n",
    "    ])\n",
    "\n",
    "hidden = add([hidden, Dense(DENSE_HIDDEN_UNITS, activation='relu')(hidden)])\n",
    "hidden = add([hidden, Dense(DENSE_HIDDEN_UNITS, activation='relu')(hidden)])"
   ]
  },
  {
   "cell_type": "code",
   "execution_count": 0,
   "metadata": {
    "colab": {},
    "colab_type": "code",
    "id": "-KZ70E4IYnPA"
   },
   "outputs": [],
   "source": [
    "result = Dense(30, activation='sigmoid')(hidden)"
   ]
  },
  {
   "cell_type": "code",
   "execution_count": 0,
   "metadata": {
    "colab": {},
    "colab_type": "code",
    "id": "4OnH-kZ1Yqhu"
   },
   "outputs": [],
   "source": [
    "model = Model(inputs=words, outputs=[result])\n",
    "model.compile(loss='mean_squared_error', optimizer='rmsprop',metrics=['mae'])"
   ]
  },
  {
   "cell_type": "code",
   "execution_count": 0,
   "metadata": {
    "colab": {},
    "colab_type": "code",
    "id": "GmI6D-P1YtA1"
   },
   "outputs": [],
   "source": [
    "# model.summary()"
   ]
  },
  {
   "cell_type": "code",
   "execution_count": 0,
   "metadata": {
    "colab": {
     "base_uri": "https://localhost:8080/",
     "height": 34
    },
    "colab_type": "code",
    "id": "3Vl7UaG-Y39L",
    "outputId": "2fa6ed9b-ba37-4e86-9700-ef00809b16b2"
   },
   "outputs": [
    {
     "data": {
      "text/plain": [
       "128"
      ]
     },
     "execution_count": 72,
     "metadata": {
      "tags": []
     },
     "output_type": "execute_result"
    }
   ],
   "source": [
    "len(train_batches[0]['X'])"
   ]
  },
  {
   "cell_type": "code",
   "execution_count": 0,
   "metadata": {
    "colab": {},
    "colab_type": "code",
    "id": "iTcDSRmHZHcT"
   },
   "outputs": [],
   "source": [
    "train_x = [train_batches[i]['X'] for i in range(len(train_batches))]\n",
    "train_y = [train_batches[i]['Y'] for i in range(len(train_batches))]"
   ]
  },
  {
   "cell_type": "code",
   "execution_count": 0,
   "metadata": {
    "colab": {
     "base_uri": "https://localhost:8080/",
     "height": 154
    },
    "colab_type": "code",
    "id": "fBYMrxtrZPb6",
    "outputId": "0384f835-0ab4-4eea-9e8a-2a56f39852c4"
   },
   "outputs": [
    {
     "name": "stdout",
     "output_type": "stream",
     "text": [
      "WARNING:tensorflow:Layer concatenate_14 is casting an input tensor from dtype float64 to the layer's dtype of float32, which is new behavior in TensorFlow 2.  The layer has dtype float32 because it's dtype defaults to floatx.\n",
      "\n",
      "If you intended to run this layer in float32, you can safely ignore this warning. If in doubt, this warning is likely only an issue if you are porting a TensorFlow 1.X model to TensorFlow 2.\n",
      "\n",
      "To change all layers to have dtype float64 by default, call `tf.keras.backend.set_floatx('float64')`. To change just this layer, pass dtype='float64' to the layer constructor. If you are the author of this layer, you can disable autocasting by passing autocast=False to the base Layer constructor.\n",
      "\n",
      "(6079, 6300) (6079, 30)\n"
     ]
    }
   ],
   "source": [
    "train_x = concatenate(train_x , axis=0 )\n",
    "train_y = concatenate(train_y , axis=0 )\n",
    "\n",
    "print(train_x.shape, train_y.shape)"
   ]
  },
  {
   "cell_type": "code",
   "execution_count": 0,
   "metadata": {
    "colab": {
     "base_uri": "https://localhost:8080/",
     "height": 386
    },
    "colab_type": "code",
    "id": "KMma8NFKYyMV",
    "outputId": "9eca4ff7-0097-4efe-e0a1-9e729ce77c48"
   },
   "outputs": [
    {
     "name": "stdout",
     "output_type": "stream",
     "text": [
      "Train on 6079 samples\n",
      "Epoch 1/10\n",
      "6079/6079 [==============================] - 57s 9ms/sample - loss: 0.0591 - mae: 0.1694\n",
      "Epoch 2/10\n",
      "6079/6079 [==============================] - 55s 9ms/sample - loss: 0.0558 - mae: 0.1625\n",
      "Epoch 3/10\n",
      "6079/6079 [==============================] - 55s 9ms/sample - loss: 0.0534 - mae: 0.1576\n",
      "Epoch 4/10\n",
      "6079/6079 [==============================] - 55s 9ms/sample - loss: 0.0520 - mae: 0.1547\n",
      "Epoch 5/10\n",
      "6079/6079 [==============================] - 55s 9ms/sample - loss: 0.0511 - mae: 0.1530\n",
      "Epoch 6/10\n",
      "6079/6079 [==============================] - 55s 9ms/sample - loss: 0.0497 - mae: 0.1507\n",
      "Epoch 7/10\n",
      "6079/6079 [==============================] - 56s 9ms/sample - loss: 0.0485 - mae: 0.1484\n",
      "Epoch 8/10\n",
      "6079/6079 [==============================] - 56s 9ms/sample - loss: 0.0475 - mae: 0.1463\n",
      "Epoch 9/10\n",
      "6079/6079 [==============================] - 55s 9ms/sample - loss: 0.0465 - mae: 0.1447\n",
      "Epoch 10/10\n",
      "6079/6079 [==============================] - 55s 9ms/sample - loss: 0.0458 - mae: 0.1430\n"
     ]
    },
    {
     "data": {
      "text/plain": [
       "<tensorflow.python.keras.callbacks.History at 0x7fe881da7710>"
      ]
     },
     "execution_count": 131,
     "metadata": {
      "tags": []
     },
     "output_type": "execute_result"
    }
   ],
   "source": [
    "model.fit(\n",
    "           train_x, train_y,\n",
    "            batch_size=128,\n",
    "            epochs=10,\n",
    "            verbose=1,\n",
    "        )"
   ]
  },
  {
   "cell_type": "markdown",
   "metadata": {
    "colab_type": "text",
    "id": "wevJ7P2W6s2I"
   },
   "source": [
    "# Predictions"
   ]
  },
  {
   "cell_type": "code",
   "execution_count": 0,
   "metadata": {
    "colab": {},
    "colab_type": "code",
    "id": "FxMHzGDy6s2J"
   },
   "outputs": [],
   "source": [
    "loc = \"google-quest-challenge/sample_submission.csv\"\n",
    "# loc = \"/kaggle/input/google-quest-challenge/sample_submission.csv\"\n",
    "\n",
    "sub = pd.read_csv(loc)"
   ]
  },
  {
   "cell_type": "code",
   "execution_count": 0,
   "metadata": {
    "colab": {
     "base_uri": "https://localhost:8080/",
     "height": 34
    },
    "colab_type": "code",
    "id": "vp3lkfU96s2K",
    "outputId": "7f531876-1140-4bcb-f4f7-ee8eff7b908c"
   },
   "outputs": [
    {
     "name": "stderr",
     "output_type": "stream",
     "text": [
      "100%|██████████| 1/1 [00:00<00:00, 53.34it/s]\n"
     ]
    }
   ],
   "source": [
    "BSZ = len(test_data)\n",
    "test_batches = generate_batches(test_data, BSZ, TEXT_COLUMN_NAMES, TARGET_COLUMN_NAMES, training=False)"
   ]
  },
  {
   "cell_type": "code",
   "execution_count": 0,
   "metadata": {
    "colab": {
     "base_uri": "https://localhost:8080/",
     "height": 34
    },
    "colab_type": "code",
    "id": "k5v5N_P4k5cm",
    "outputId": "2ec308c7-c013-4bf0-c97d-44637b727d6b"
   },
   "outputs": [
    {
     "data": {
      "text/plain": [
       "(dtype('int32'), (476, 6300), numpy.ndarray)"
      ]
     },
     "execution_count": 138,
     "metadata": {
      "tags": []
     },
     "output_type": "execute_result"
    }
   ],
   "source": [
    "test_x = test_batches[0]['X']\n",
    "# test_y = [test_batches[i]['Y'] for i in range(len(test_batches))]\n",
    "\n",
    "test_x.dtype, test_x.shape, type(test_x)\n",
    "# test_x = concatenate(test_x , axis=0 )\n",
    "# test_y = concatenate(test_y , axis=0 )"
   ]
  },
  {
   "cell_type": "code",
   "execution_count": 0,
   "metadata": {
    "colab": {},
    "colab_type": "code",
    "id": "lvJZqPEQ6s2M"
   },
   "outputs": [],
   "source": [
    "predictions = model(test_x, False)"
   ]
  },
  {
   "cell_type": "code",
   "execution_count": 0,
   "metadata": {
    "colab": {
     "base_uri": "https://localhost:8080/",
     "height": 34
    },
    "colab_type": "code",
    "id": "eCGNMmsi6s2N",
    "outputId": "1c8a3f21-08b8-4ef2-b8f0-90dafc1ba1f6"
   },
   "outputs": [
    {
     "data": {
      "text/plain": [
       "TensorShape([476, 30])"
      ]
     },
     "execution_count": 140,
     "metadata": {
      "tags": []
     },
     "output_type": "execute_result"
    }
   ],
   "source": [
    "predictions.shape"
   ]
  },
  {
   "cell_type": "code",
   "execution_count": 0,
   "metadata": {
    "colab": {},
    "colab_type": "code",
    "id": "ULFiRfQv6s2Q"
   },
   "outputs": [],
   "source": [
    "for col_index, col in enumerate(TARGET_COLUMN_NAMES):\n",
    "    sub[col] = predictions[:, col_index]"
   ]
  },
  {
   "cell_type": "code",
   "execution_count": 0,
   "metadata": {
    "colab": {},
    "colab_type": "code",
    "id": "eUxoYOfA6s2U"
   },
   "outputs": [],
   "source": [
    "name = 'submission.csv'\n",
    "sub.to_csv(name, index = False)"
   ]
  },
  {
   "cell_type": "code",
   "execution_count": 0,
   "metadata": {
    "colab": {},
    "colab_type": "code",
    "id": "P3MKEkCC6s2V"
   },
   "outputs": [],
   "source": []
  }
 ],
 "metadata": {
  "accelerator": "GPU",
  "colab": {
   "collapsed_sections": [
    "An4VIv4M75dw",
    "IhvrnDO06s1K",
    "ceR2JPzy6s1P",
    "9WcH1Byk6s1V",
    "m71VmaUL6s1w",
    "TgGzhn596s10"
   ],
   "name": "fuckthis- LSTM.ipynb",
   "provenance": [],
   "toc_visible": true
  },
  "kernelspec": {
   "display_name": "Python 3",
   "language": "python",
   "name": "python3"
  },
  "language_info": {
   "codemirror_mode": {
    "name": "ipython",
    "version": 3
   },
   "file_extension": ".py",
   "mimetype": "text/x-python",
   "name": "python",
   "nbconvert_exporter": "python",
   "pygments_lexer": "ipython3",
   "version": "3.7.4"
  },
  "toc": {
   "base_numbering": 1,
   "nav_menu": {},
   "number_sections": true,
   "sideBar": true,
   "skip_h1_title": false,
   "title_cell": "Table of Contents",
   "title_sidebar": "Contents",
   "toc_cell": false,
   "toc_position": {},
   "toc_section_display": true,
   "toc_window_display": false
  },
  "widgets": {
   "application/vnd.jupyter.widget-state+json": {
    "001688bfc40b42e2b4f73b5ba79d3fac": {
     "model_module": "@jupyter-widgets/controls",
     "model_name": "ProgressStyleModel",
     "state": {
      "_model_module": "@jupyter-widgets/controls",
      "_model_module_version": "1.5.0",
      "_model_name": "ProgressStyleModel",
      "_view_count": null,
      "_view_module": "@jupyter-widgets/base",
      "_view_module_version": "1.2.0",
      "_view_name": "StyleView",
      "bar_color": null,
      "description_width": ""
     }
    },
    "02cdc1f9ebe540359e76e95203ecbbd7": {
     "model_module": "@jupyter-widgets/controls",
     "model_name": "DescriptionStyleModel",
     "state": {
      "_model_module": "@jupyter-widgets/controls",
      "_model_module_version": "1.5.0",
      "_model_name": "DescriptionStyleModel",
      "_view_count": null,
      "_view_module": "@jupyter-widgets/base",
      "_view_module_version": "1.2.0",
      "_view_name": "StyleView",
      "description_width": ""
     }
    },
    "04181cdb2dd5440a8b9d3a6302d684a1": {
     "model_module": "@jupyter-widgets/base",
     "model_name": "LayoutModel",
     "state": {
      "_model_module": "@jupyter-widgets/base",
      "_model_module_version": "1.2.0",
      "_model_name": "LayoutModel",
      "_view_count": null,
      "_view_module": "@jupyter-widgets/base",
      "_view_module_version": "1.2.0",
      "_view_name": "LayoutView",
      "align_content": null,
      "align_items": null,
      "align_self": null,
      "border": null,
      "bottom": null,
      "display": null,
      "flex": null,
      "flex_flow": null,
      "grid_area": null,
      "grid_auto_columns": null,
      "grid_auto_flow": null,
      "grid_auto_rows": null,
      "grid_column": null,
      "grid_gap": null,
      "grid_row": null,
      "grid_template_areas": null,
      "grid_template_columns": null,
      "grid_template_rows": null,
      "height": null,
      "justify_content": null,
      "justify_items": null,
      "left": null,
      "margin": null,
      "max_height": null,
      "max_width": null,
      "min_height": null,
      "min_width": null,
      "object_fit": null,
      "object_position": null,
      "order": null,
      "overflow": null,
      "overflow_x": null,
      "overflow_y": null,
      "padding": null,
      "right": null,
      "top": null,
      "visibility": null,
      "width": null
     }
    },
    "048041db3d014d0e93febbe1f1a8b310": {
     "model_module": "@jupyter-widgets/base",
     "model_name": "LayoutModel",
     "state": {
      "_model_module": "@jupyter-widgets/base",
      "_model_module_version": "1.2.0",
      "_model_name": "LayoutModel",
      "_view_count": null,
      "_view_module": "@jupyter-widgets/base",
      "_view_module_version": "1.2.0",
      "_view_name": "LayoutView",
      "align_content": null,
      "align_items": null,
      "align_self": null,
      "border": null,
      "bottom": null,
      "display": null,
      "flex": null,
      "flex_flow": null,
      "grid_area": null,
      "grid_auto_columns": null,
      "grid_auto_flow": null,
      "grid_auto_rows": null,
      "grid_column": null,
      "grid_gap": null,
      "grid_row": null,
      "grid_template_areas": null,
      "grid_template_columns": null,
      "grid_template_rows": null,
      "height": null,
      "justify_content": null,
      "justify_items": null,
      "left": null,
      "margin": null,
      "max_height": null,
      "max_width": null,
      "min_height": null,
      "min_width": null,
      "object_fit": null,
      "object_position": null,
      "order": null,
      "overflow": null,
      "overflow_x": null,
      "overflow_y": null,
      "padding": null,
      "right": null,
      "top": null,
      "visibility": null,
      "width": null
     }
    },
    "081421ae7b144452b544f1cafe304edf": {
     "model_module": "@jupyter-widgets/controls",
     "model_name": "HTMLModel",
     "state": {
      "_dom_classes": [],
      "_model_module": "@jupyter-widgets/controls",
      "_model_module_version": "1.5.0",
      "_model_name": "HTMLModel",
      "_view_count": null,
      "_view_module": "@jupyter-widgets/controls",
      "_view_module_version": "1.5.0",
      "_view_name": "HTMLView",
      "description": "",
      "description_tooltip": null,
      "layout": "IPY_MODEL_c52f555a3cea4198abc215372f4ab246",
      "placeholder": "​",
      "style": "IPY_MODEL_d03817b463db4d3da8fa5961c51e6ca6",
      "value": "48it [00:28,  2.08it/s]"
     }
    },
    "0905fb89f9284cf4aaaececefd568a0f": {
     "model_module": "@jupyter-widgets/base",
     "model_name": "LayoutModel",
     "state": {
      "_model_module": "@jupyter-widgets/base",
      "_model_module_version": "1.2.0",
      "_model_name": "LayoutModel",
      "_view_count": null,
      "_view_module": "@jupyter-widgets/base",
      "_view_module_version": "1.2.0",
      "_view_name": "LayoutView",
      "align_content": null,
      "align_items": null,
      "align_self": null,
      "border": null,
      "bottom": null,
      "display": null,
      "flex": null,
      "flex_flow": null,
      "grid_area": null,
      "grid_auto_columns": null,
      "grid_auto_flow": null,
      "grid_auto_rows": null,
      "grid_column": null,
      "grid_gap": null,
      "grid_row": null,
      "grid_template_areas": null,
      "grid_template_columns": null,
      "grid_template_rows": null,
      "height": null,
      "justify_content": null,
      "justify_items": null,
      "left": null,
      "margin": null,
      "max_height": null,
      "max_width": null,
      "min_height": null,
      "min_width": null,
      "object_fit": null,
      "object_position": null,
      "order": null,
      "overflow": null,
      "overflow_x": null,
      "overflow_y": null,
      "padding": null,
      "right": null,
      "top": null,
      "visibility": null,
      "width": null
     }
    },
    "0df66bbde1a540a48158858f8dbe6436": {
     "model_module": "@jupyter-widgets/base",
     "model_name": "LayoutModel",
     "state": {
      "_model_module": "@jupyter-widgets/base",
      "_model_module_version": "1.2.0",
      "_model_name": "LayoutModel",
      "_view_count": null,
      "_view_module": "@jupyter-widgets/base",
      "_view_module_version": "1.2.0",
      "_view_name": "LayoutView",
      "align_content": null,
      "align_items": null,
      "align_self": null,
      "border": null,
      "bottom": null,
      "display": null,
      "flex": null,
      "flex_flow": null,
      "grid_area": null,
      "grid_auto_columns": null,
      "grid_auto_flow": null,
      "grid_auto_rows": null,
      "grid_column": null,
      "grid_gap": null,
      "grid_row": null,
      "grid_template_areas": null,
      "grid_template_columns": null,
      "grid_template_rows": null,
      "height": null,
      "justify_content": null,
      "justify_items": null,
      "left": null,
      "margin": null,
      "max_height": null,
      "max_width": null,
      "min_height": null,
      "min_width": null,
      "object_fit": null,
      "object_position": null,
      "order": null,
      "overflow": null,
      "overflow_x": null,
      "overflow_y": null,
      "padding": null,
      "right": null,
      "top": null,
      "visibility": null,
      "width": null
     }
    },
    "15bc41dcce33464a9df627f66b01cd76": {
     "model_module": "@jupyter-widgets/controls",
     "model_name": "HTMLModel",
     "state": {
      "_dom_classes": [],
      "_model_module": "@jupyter-widgets/controls",
      "_model_module_version": "1.5.0",
      "_model_name": "HTMLModel",
      "_view_count": null,
      "_view_module": "@jupyter-widgets/controls",
      "_view_module_version": "1.5.0",
      "_view_name": "HTMLView",
      "description": "",
      "description_tooltip": null,
      "layout": "IPY_MODEL_3db7a3779b5a456ab207983ceae07998",
      "placeholder": "​",
      "style": "IPY_MODEL_9a50f83a58eb450f8b51d1a42b1819cb",
      "value": "48it [00:28,  2.06it/s]"
     }
    },
    "15d6e82a455c4486a8ebfea251c25ea6": {
     "model_module": "@jupyter-widgets/base",
     "model_name": "LayoutModel",
     "state": {
      "_model_module": "@jupyter-widgets/base",
      "_model_module_version": "1.2.0",
      "_model_name": "LayoutModel",
      "_view_count": null,
      "_view_module": "@jupyter-widgets/base",
      "_view_module_version": "1.2.0",
      "_view_name": "LayoutView",
      "align_content": null,
      "align_items": null,
      "align_self": null,
      "border": null,
      "bottom": null,
      "display": null,
      "flex": null,
      "flex_flow": null,
      "grid_area": null,
      "grid_auto_columns": null,
      "grid_auto_flow": null,
      "grid_auto_rows": null,
      "grid_column": null,
      "grid_gap": null,
      "grid_row": null,
      "grid_template_areas": null,
      "grid_template_columns": null,
      "grid_template_rows": null,
      "height": null,
      "justify_content": null,
      "justify_items": null,
      "left": null,
      "margin": null,
      "max_height": null,
      "max_width": null,
      "min_height": null,
      "min_width": null,
      "object_fit": null,
      "object_position": null,
      "order": null,
      "overflow": null,
      "overflow_x": null,
      "overflow_y": null,
      "padding": null,
      "right": null,
      "top": null,
      "visibility": null,
      "width": null
     }
    },
    "1f6da25831b64f849a967bdcd2b5b7cc": {
     "model_module": "@jupyter-widgets/base",
     "model_name": "LayoutModel",
     "state": {
      "_model_module": "@jupyter-widgets/base",
      "_model_module_version": "1.2.0",
      "_model_name": "LayoutModel",
      "_view_count": null,
      "_view_module": "@jupyter-widgets/base",
      "_view_module_version": "1.2.0",
      "_view_name": "LayoutView",
      "align_content": null,
      "align_items": null,
      "align_self": null,
      "border": null,
      "bottom": null,
      "display": null,
      "flex": null,
      "flex_flow": null,
      "grid_area": null,
      "grid_auto_columns": null,
      "grid_auto_flow": null,
      "grid_auto_rows": null,
      "grid_column": null,
      "grid_gap": null,
      "grid_row": null,
      "grid_template_areas": null,
      "grid_template_columns": null,
      "grid_template_rows": null,
      "height": null,
      "justify_content": null,
      "justify_items": null,
      "left": null,
      "margin": null,
      "max_height": null,
      "max_width": null,
      "min_height": null,
      "min_width": null,
      "object_fit": null,
      "object_position": null,
      "order": null,
      "overflow": null,
      "overflow_x": null,
      "overflow_y": null,
      "padding": null,
      "right": null,
      "top": null,
      "visibility": null,
      "width": null
     }
    },
    "207941e2aa0541ecaf80985e1d8d8c9a": {
     "model_module": "@jupyter-widgets/controls",
     "model_name": "HBoxModel",
     "state": {
      "_dom_classes": [],
      "_model_module": "@jupyter-widgets/controls",
      "_model_module_version": "1.5.0",
      "_model_name": "HBoxModel",
      "_view_count": null,
      "_view_module": "@jupyter-widgets/controls",
      "_view_module_version": "1.5.0",
      "_view_name": "HBoxView",
      "box_style": "",
      "children": [
       "IPY_MODEL_76e56c02c2004c3ea04e38a1a26985c6",
       "IPY_MODEL_081421ae7b144452b544f1cafe304edf"
      ],
      "layout": "IPY_MODEL_5bfb63ccc7d04acc92acc34fcba9612f"
     }
    },
    "217a02865326480d88edbed4fb49c7cd": {
     "model_module": "@jupyter-widgets/base",
     "model_name": "LayoutModel",
     "state": {
      "_model_module": "@jupyter-widgets/base",
      "_model_module_version": "1.2.0",
      "_model_name": "LayoutModel",
      "_view_count": null,
      "_view_module": "@jupyter-widgets/base",
      "_view_module_version": "1.2.0",
      "_view_name": "LayoutView",
      "align_content": null,
      "align_items": null,
      "align_self": null,
      "border": null,
      "bottom": null,
      "display": null,
      "flex": null,
      "flex_flow": null,
      "grid_area": null,
      "grid_auto_columns": null,
      "grid_auto_flow": null,
      "grid_auto_rows": null,
      "grid_column": null,
      "grid_gap": null,
      "grid_row": null,
      "grid_template_areas": null,
      "grid_template_columns": null,
      "grid_template_rows": null,
      "height": null,
      "justify_content": null,
      "justify_items": null,
      "left": null,
      "margin": null,
      "max_height": null,
      "max_width": null,
      "min_height": null,
      "min_width": null,
      "object_fit": null,
      "object_position": null,
      "order": null,
      "overflow": null,
      "overflow_x": null,
      "overflow_y": null,
      "padding": null,
      "right": null,
      "top": null,
      "visibility": null,
      "width": null
     }
    },
    "28a0615dc6b546d4a5f28cd80a435091": {
     "model_module": "@jupyter-widgets/controls",
     "model_name": "ProgressStyleModel",
     "state": {
      "_model_module": "@jupyter-widgets/controls",
      "_model_module_version": "1.5.0",
      "_model_name": "ProgressStyleModel",
      "_view_count": null,
      "_view_module": "@jupyter-widgets/base",
      "_view_module_version": "1.2.0",
      "_view_name": "StyleView",
      "bar_color": null,
      "description_width": ""
     }
    },
    "2a0ec75e6c5e4612bc708a257edb08d6": {
     "model_module": "@jupyter-widgets/base",
     "model_name": "LayoutModel",
     "state": {
      "_model_module": "@jupyter-widgets/base",
      "_model_module_version": "1.2.0",
      "_model_name": "LayoutModel",
      "_view_count": null,
      "_view_module": "@jupyter-widgets/base",
      "_view_module_version": "1.2.0",
      "_view_name": "LayoutView",
      "align_content": null,
      "align_items": null,
      "align_self": null,
      "border": null,
      "bottom": null,
      "display": null,
      "flex": null,
      "flex_flow": null,
      "grid_area": null,
      "grid_auto_columns": null,
      "grid_auto_flow": null,
      "grid_auto_rows": null,
      "grid_column": null,
      "grid_gap": null,
      "grid_row": null,
      "grid_template_areas": null,
      "grid_template_columns": null,
      "grid_template_rows": null,
      "height": null,
      "justify_content": null,
      "justify_items": null,
      "left": null,
      "margin": null,
      "max_height": null,
      "max_width": null,
      "min_height": null,
      "min_width": null,
      "object_fit": null,
      "object_position": null,
      "order": null,
      "overflow": null,
      "overflow_x": null,
      "overflow_y": null,
      "padding": null,
      "right": null,
      "top": null,
      "visibility": null,
      "width": null
     }
    },
    "314543ba66374999899bd601e27fe758": {
     "model_module": "@jupyter-widgets/controls",
     "model_name": "DescriptionStyleModel",
     "state": {
      "_model_module": "@jupyter-widgets/controls",
      "_model_module_version": "1.5.0",
      "_model_name": "DescriptionStyleModel",
      "_view_count": null,
      "_view_module": "@jupyter-widgets/base",
      "_view_module_version": "1.2.0",
      "_view_name": "StyleView",
      "description_width": ""
     }
    },
    "33161d5dfcd7454f909977da53735c93": {
     "model_module": "@jupyter-widgets/base",
     "model_name": "LayoutModel",
     "state": {
      "_model_module": "@jupyter-widgets/base",
      "_model_module_version": "1.2.0",
      "_model_name": "LayoutModel",
      "_view_count": null,
      "_view_module": "@jupyter-widgets/base",
      "_view_module_version": "1.2.0",
      "_view_name": "LayoutView",
      "align_content": null,
      "align_items": null,
      "align_self": null,
      "border": null,
      "bottom": null,
      "display": null,
      "flex": null,
      "flex_flow": null,
      "grid_area": null,
      "grid_auto_columns": null,
      "grid_auto_flow": null,
      "grid_auto_rows": null,
      "grid_column": null,
      "grid_gap": null,
      "grid_row": null,
      "grid_template_areas": null,
      "grid_template_columns": null,
      "grid_template_rows": null,
      "height": null,
      "justify_content": null,
      "justify_items": null,
      "left": null,
      "margin": null,
      "max_height": null,
      "max_width": null,
      "min_height": null,
      "min_width": null,
      "object_fit": null,
      "object_position": null,
      "order": null,
      "overflow": null,
      "overflow_x": null,
      "overflow_y": null,
      "padding": null,
      "right": null,
      "top": null,
      "visibility": null,
      "width": null
     }
    },
    "334e9e60fdd64edea4da551020099e24": {
     "model_module": "@jupyter-widgets/controls",
     "model_name": "IntProgressModel",
     "state": {
      "_dom_classes": [],
      "_model_module": "@jupyter-widgets/controls",
      "_model_module_version": "1.5.0",
      "_model_name": "IntProgressModel",
      "_view_count": null,
      "_view_module": "@jupyter-widgets/controls",
      "_view_module_version": "1.5.0",
      "_view_name": "ProgressView",
      "bar_style": "success",
      "description": "",
      "description_tooltip": null,
      "layout": "IPY_MODEL_daba1200bf5e4ff290bd787f6b1c9de3",
      "max": 1,
      "min": 0,
      "orientation": "horizontal",
      "style": "IPY_MODEL_28a0615dc6b546d4a5f28cd80a435091",
      "value": 1
     }
    },
    "3697192be21c4997b34b3444e92ee231": {
     "model_module": "@jupyter-widgets/controls",
     "model_name": "HBoxModel",
     "state": {
      "_dom_classes": [],
      "_model_module": "@jupyter-widgets/controls",
      "_model_module_version": "1.5.0",
      "_model_name": "HBoxModel",
      "_view_count": null,
      "_view_module": "@jupyter-widgets/controls",
      "_view_module_version": "1.5.0",
      "_view_name": "HBoxView",
      "box_style": "",
      "children": [
       "IPY_MODEL_75f57f4c7d17492eb1e66f642d19bac5",
       "IPY_MODEL_90092dd05de94d1caf0ccb4c60d0315c"
      ],
      "layout": "IPY_MODEL_ddf404f6532b4421ac6d735e0da64d65"
     }
    },
    "376a619a060c494c87cd060dc991876c": {
     "model_module": "@jupyter-widgets/controls",
     "model_name": "DescriptionStyleModel",
     "state": {
      "_model_module": "@jupyter-widgets/controls",
      "_model_module_version": "1.5.0",
      "_model_name": "DescriptionStyleModel",
      "_view_count": null,
      "_view_module": "@jupyter-widgets/base",
      "_view_module_version": "1.2.0",
      "_view_name": "StyleView",
      "description_width": ""
     }
    },
    "382d4a51b30444bcb93eec791d47aefa": {
     "model_module": "@jupyter-widgets/controls",
     "model_name": "HTMLModel",
     "state": {
      "_dom_classes": [],
      "_model_module": "@jupyter-widgets/controls",
      "_model_module_version": "1.5.0",
      "_model_name": "HTMLModel",
      "_view_count": null,
      "_view_module": "@jupyter-widgets/controls",
      "_view_module_version": "1.5.0",
      "_view_name": "HTMLView",
      "description": "",
      "description_tooltip": null,
      "layout": "IPY_MODEL_a71ab14d922a4f37961e518489f4766e",
      "placeholder": "​",
      "style": "IPY_MODEL_673cb41b783042268b3c512341473cc5",
      "value": "48it [00:28,  2.09it/s]"
     }
    },
    "39a2cb06c9b244c8a01346bed9484d12": {
     "model_module": "@jupyter-widgets/controls",
     "model_name": "IntProgressModel",
     "state": {
      "_dom_classes": [],
      "_model_module": "@jupyter-widgets/controls",
      "_model_module_version": "1.5.0",
      "_model_name": "IntProgressModel",
      "_view_count": null,
      "_view_module": "@jupyter-widgets/controls",
      "_view_module_version": "1.5.0",
      "_view_name": "ProgressView",
      "bar_style": "success",
      "description": "",
      "description_tooltip": null,
      "layout": "IPY_MODEL_0df66bbde1a540a48158858f8dbe6436",
      "max": 1,
      "min": 0,
      "orientation": "horizontal",
      "style": "IPY_MODEL_daeb03da065b47bab36d912fab2336e6",
      "value": 1
     }
    },
    "3cd279af80ad4e7a8bdbf2d061acd6c4": {
     "model_module": "@jupyter-widgets/base",
     "model_name": "LayoutModel",
     "state": {
      "_model_module": "@jupyter-widgets/base",
      "_model_module_version": "1.2.0",
      "_model_name": "LayoutModel",
      "_view_count": null,
      "_view_module": "@jupyter-widgets/base",
      "_view_module_version": "1.2.0",
      "_view_name": "LayoutView",
      "align_content": null,
      "align_items": null,
      "align_self": null,
      "border": null,
      "bottom": null,
      "display": null,
      "flex": null,
      "flex_flow": null,
      "grid_area": null,
      "grid_auto_columns": null,
      "grid_auto_flow": null,
      "grid_auto_rows": null,
      "grid_column": null,
      "grid_gap": null,
      "grid_row": null,
      "grid_template_areas": null,
      "grid_template_columns": null,
      "grid_template_rows": null,
      "height": null,
      "justify_content": null,
      "justify_items": null,
      "left": null,
      "margin": null,
      "max_height": null,
      "max_width": null,
      "min_height": null,
      "min_width": null,
      "object_fit": null,
      "object_position": null,
      "order": null,
      "overflow": null,
      "overflow_x": null,
      "overflow_y": null,
      "padding": null,
      "right": null,
      "top": null,
      "visibility": null,
      "width": null
     }
    },
    "3db7a3779b5a456ab207983ceae07998": {
     "model_module": "@jupyter-widgets/base",
     "model_name": "LayoutModel",
     "state": {
      "_model_module": "@jupyter-widgets/base",
      "_model_module_version": "1.2.0",
      "_model_name": "LayoutModel",
      "_view_count": null,
      "_view_module": "@jupyter-widgets/base",
      "_view_module_version": "1.2.0",
      "_view_name": "LayoutView",
      "align_content": null,
      "align_items": null,
      "align_self": null,
      "border": null,
      "bottom": null,
      "display": null,
      "flex": null,
      "flex_flow": null,
      "grid_area": null,
      "grid_auto_columns": null,
      "grid_auto_flow": null,
      "grid_auto_rows": null,
      "grid_column": null,
      "grid_gap": null,
      "grid_row": null,
      "grid_template_areas": null,
      "grid_template_columns": null,
      "grid_template_rows": null,
      "height": null,
      "justify_content": null,
      "justify_items": null,
      "left": null,
      "margin": null,
      "max_height": null,
      "max_width": null,
      "min_height": null,
      "min_width": null,
      "object_fit": null,
      "object_position": null,
      "order": null,
      "overflow": null,
      "overflow_x": null,
      "overflow_y": null,
      "padding": null,
      "right": null,
      "top": null,
      "visibility": null,
      "width": null
     }
    },
    "40db451c5c8245858abe6bd22472a314": {
     "model_module": "@jupyter-widgets/controls",
     "model_name": "HTMLModel",
     "state": {
      "_dom_classes": [],
      "_model_module": "@jupyter-widgets/controls",
      "_model_module_version": "1.5.0",
      "_model_name": "HTMLModel",
      "_view_count": null,
      "_view_module": "@jupyter-widgets/controls",
      "_view_module_version": "1.5.0",
      "_view_name": "HTMLView",
      "description": "",
      "description_tooltip": null,
      "layout": "IPY_MODEL_b888b145cb9a4711bc980681515edc23",
      "placeholder": "​",
      "style": "IPY_MODEL_314543ba66374999899bd601e27fe758",
      "value": "48it [00:28,  2.10it/s]"
     }
    },
    "4855545792864ff19d9499b293d0e9d6": {
     "model_module": "@jupyter-widgets/controls",
     "model_name": "DescriptionStyleModel",
     "state": {
      "_model_module": "@jupyter-widgets/controls",
      "_model_module_version": "1.5.0",
      "_model_name": "DescriptionStyleModel",
      "_view_count": null,
      "_view_module": "@jupyter-widgets/base",
      "_view_module_version": "1.2.0",
      "_view_name": "StyleView",
      "description_width": ""
     }
    },
    "495d0b24ff4e4345a87b21fbc7bef7cb": {
     "model_module": "@jupyter-widgets/controls",
     "model_name": "ProgressStyleModel",
     "state": {
      "_model_module": "@jupyter-widgets/controls",
      "_model_module_version": "1.5.0",
      "_model_name": "ProgressStyleModel",
      "_view_count": null,
      "_view_module": "@jupyter-widgets/base",
      "_view_module_version": "1.2.0",
      "_view_name": "StyleView",
      "bar_color": null,
      "description_width": ""
     }
    },
    "4ac9eec28fb94c1c9235aa733d1636f7": {
     "model_module": "@jupyter-widgets/controls",
     "model_name": "ProgressStyleModel",
     "state": {
      "_model_module": "@jupyter-widgets/controls",
      "_model_module_version": "1.5.0",
      "_model_name": "ProgressStyleModel",
      "_view_count": null,
      "_view_module": "@jupyter-widgets/base",
      "_view_module_version": "1.2.0",
      "_view_name": "StyleView",
      "bar_color": null,
      "description_width": ""
     }
    },
    "4c599a621b134bf1bc91be50272206d2": {
     "model_module": "@jupyter-widgets/controls",
     "model_name": "ProgressStyleModel",
     "state": {
      "_model_module": "@jupyter-widgets/controls",
      "_model_module_version": "1.5.0",
      "_model_name": "ProgressStyleModel",
      "_view_count": null,
      "_view_module": "@jupyter-widgets/base",
      "_view_module_version": "1.2.0",
      "_view_name": "StyleView",
      "bar_color": null,
      "description_width": ""
     }
    },
    "4fe4078d44b847c3b027afdaab84557d": {
     "model_module": "@jupyter-widgets/controls",
     "model_name": "ProgressStyleModel",
     "state": {
      "_model_module": "@jupyter-widgets/controls",
      "_model_module_version": "1.5.0",
      "_model_name": "ProgressStyleModel",
      "_view_count": null,
      "_view_module": "@jupyter-widgets/base",
      "_view_module_version": "1.2.0",
      "_view_name": "StyleView",
      "bar_color": null,
      "description_width": ""
     }
    },
    "5739d2d8acec4104a9afaec16224b76e": {
     "model_module": "@jupyter-widgets/controls",
     "model_name": "HBoxModel",
     "state": {
      "_dom_classes": [],
      "_model_module": "@jupyter-widgets/controls",
      "_model_module_version": "1.5.0",
      "_model_name": "HBoxModel",
      "_view_count": null,
      "_view_module": "@jupyter-widgets/controls",
      "_view_module_version": "1.5.0",
      "_view_name": "HBoxView",
      "box_style": "",
      "children": [
       "IPY_MODEL_334e9e60fdd64edea4da551020099e24",
       "IPY_MODEL_382d4a51b30444bcb93eec791d47aefa"
      ],
      "layout": "IPY_MODEL_2a0ec75e6c5e4612bc708a257edb08d6"
     }
    },
    "5b89d854981442c49f4fac775b49f980": {
     "model_module": "@jupyter-widgets/controls",
     "model_name": "HBoxModel",
     "state": {
      "_dom_classes": [],
      "_model_module": "@jupyter-widgets/controls",
      "_model_module_version": "1.5.0",
      "_model_name": "HBoxModel",
      "_view_count": null,
      "_view_module": "@jupyter-widgets/controls",
      "_view_module_version": "1.5.0",
      "_view_name": "HBoxView",
      "box_style": "",
      "children": [
       "IPY_MODEL_9aa84253ef6b496794fb99954271f2f4",
       "IPY_MODEL_eae8f35795f648799628d29371071cb4"
      ],
      "layout": "IPY_MODEL_ca974ff588a9427eaec6c75e8e229920"
     }
    },
    "5bfb63ccc7d04acc92acc34fcba9612f": {
     "model_module": "@jupyter-widgets/base",
     "model_name": "LayoutModel",
     "state": {
      "_model_module": "@jupyter-widgets/base",
      "_model_module_version": "1.2.0",
      "_model_name": "LayoutModel",
      "_view_count": null,
      "_view_module": "@jupyter-widgets/base",
      "_view_module_version": "1.2.0",
      "_view_name": "LayoutView",
      "align_content": null,
      "align_items": null,
      "align_self": null,
      "border": null,
      "bottom": null,
      "display": null,
      "flex": null,
      "flex_flow": null,
      "grid_area": null,
      "grid_auto_columns": null,
      "grid_auto_flow": null,
      "grid_auto_rows": null,
      "grid_column": null,
      "grid_gap": null,
      "grid_row": null,
      "grid_template_areas": null,
      "grid_template_columns": null,
      "grid_template_rows": null,
      "height": null,
      "justify_content": null,
      "justify_items": null,
      "left": null,
      "margin": null,
      "max_height": null,
      "max_width": null,
      "min_height": null,
      "min_width": null,
      "object_fit": null,
      "object_position": null,
      "order": null,
      "overflow": null,
      "overflow_x": null,
      "overflow_y": null,
      "padding": null,
      "right": null,
      "top": null,
      "visibility": null,
      "width": null
     }
    },
    "5c9b22e9a8144056b36ffa3404948d45": {
     "model_module": "@jupyter-widgets/controls",
     "model_name": "IntProgressModel",
     "state": {
      "_dom_classes": [],
      "_model_module": "@jupyter-widgets/controls",
      "_model_module_version": "1.5.0",
      "_model_name": "IntProgressModel",
      "_view_count": null,
      "_view_module": "@jupyter-widgets/controls",
      "_view_module_version": "1.5.0",
      "_view_name": "ProgressView",
      "bar_style": "success",
      "description": "",
      "description_tooltip": null,
      "layout": "IPY_MODEL_7b204cdae86549cd84e9f6bb193d814f",
      "max": 1,
      "min": 0,
      "orientation": "horizontal",
      "style": "IPY_MODEL_6b86cd2095ab40e78263e2614f77870d",
      "value": 1
     }
    },
    "5ffccd2fe78c48c9b3748e274665a0b7": {
     "model_module": "@jupyter-widgets/controls",
     "model_name": "ProgressStyleModel",
     "state": {
      "_model_module": "@jupyter-widgets/controls",
      "_model_module_version": "1.5.0",
      "_model_name": "ProgressStyleModel",
      "_view_count": null,
      "_view_module": "@jupyter-widgets/base",
      "_view_module_version": "1.2.0",
      "_view_name": "StyleView",
      "bar_color": null,
      "description_width": ""
     }
    },
    "673cb41b783042268b3c512341473cc5": {
     "model_module": "@jupyter-widgets/controls",
     "model_name": "DescriptionStyleModel",
     "state": {
      "_model_module": "@jupyter-widgets/controls",
      "_model_module_version": "1.5.0",
      "_model_name": "DescriptionStyleModel",
      "_view_count": null,
      "_view_module": "@jupyter-widgets/base",
      "_view_module_version": "1.2.0",
      "_view_name": "StyleView",
      "description_width": ""
     }
    },
    "6b86cd2095ab40e78263e2614f77870d": {
     "model_module": "@jupyter-widgets/controls",
     "model_name": "ProgressStyleModel",
     "state": {
      "_model_module": "@jupyter-widgets/controls",
      "_model_module_version": "1.5.0",
      "_model_name": "ProgressStyleModel",
      "_view_count": null,
      "_view_module": "@jupyter-widgets/base",
      "_view_module_version": "1.2.0",
      "_view_name": "StyleView",
      "bar_color": null,
      "description_width": ""
     }
    },
    "74fba0b1ce26450e82dd518e22fad6c7": {
     "model_module": "@jupyter-widgets/controls",
     "model_name": "HBoxModel",
     "state": {
      "_dom_classes": [],
      "_model_module": "@jupyter-widgets/controls",
      "_model_module_version": "1.5.0",
      "_model_name": "HBoxModel",
      "_view_count": null,
      "_view_module": "@jupyter-widgets/controls",
      "_view_module_version": "1.5.0",
      "_view_name": "HBoxView",
      "box_style": "",
      "children": [
       "IPY_MODEL_8f691455861646c48c078bd1354c84a0",
       "IPY_MODEL_40db451c5c8245858abe6bd22472a314"
      ],
      "layout": "IPY_MODEL_ff1152ae8a2540b09a8ee6a20cfb1ca5"
     }
    },
    "75f57f4c7d17492eb1e66f642d19bac5": {
     "model_module": "@jupyter-widgets/controls",
     "model_name": "IntProgressModel",
     "state": {
      "_dom_classes": [],
      "_model_module": "@jupyter-widgets/controls",
      "_model_module_version": "1.5.0",
      "_model_name": "IntProgressModel",
      "_view_count": null,
      "_view_module": "@jupyter-widgets/controls",
      "_view_module_version": "1.5.0",
      "_view_name": "ProgressView",
      "bar_style": "success",
      "description": "",
      "description_tooltip": null,
      "layout": "IPY_MODEL_217a02865326480d88edbed4fb49c7cd",
      "max": 1,
      "min": 0,
      "orientation": "horizontal",
      "style": "IPY_MODEL_495d0b24ff4e4345a87b21fbc7bef7cb",
      "value": 1
     }
    },
    "76e56c02c2004c3ea04e38a1a26985c6": {
     "model_module": "@jupyter-widgets/controls",
     "model_name": "IntProgressModel",
     "state": {
      "_dom_classes": [],
      "_model_module": "@jupyter-widgets/controls",
      "_model_module_version": "1.5.0",
      "_model_name": "IntProgressModel",
      "_view_count": null,
      "_view_module": "@jupyter-widgets/controls",
      "_view_module_version": "1.5.0",
      "_view_name": "ProgressView",
      "bar_style": "success",
      "description": "",
      "description_tooltip": null,
      "layout": "IPY_MODEL_3cd279af80ad4e7a8bdbf2d061acd6c4",
      "max": 1,
      "min": 0,
      "orientation": "horizontal",
      "style": "IPY_MODEL_001688bfc40b42e2b4f73b5ba79d3fac",
      "value": 1
     }
    },
    "77979ff44c024998a1b20e65b4fc453e": {
     "model_module": "@jupyter-widgets/controls",
     "model_name": "DescriptionStyleModel",
     "state": {
      "_model_module": "@jupyter-widgets/controls",
      "_model_module_version": "1.5.0",
      "_model_name": "DescriptionStyleModel",
      "_view_count": null,
      "_view_module": "@jupyter-widgets/base",
      "_view_module_version": "1.2.0",
      "_view_name": "StyleView",
      "description_width": ""
     }
    },
    "79b8702fb9fb4352bb1c332e828431ad": {
     "model_module": "@jupyter-widgets/controls",
     "model_name": "ProgressStyleModel",
     "state": {
      "_model_module": "@jupyter-widgets/controls",
      "_model_module_version": "1.5.0",
      "_model_name": "ProgressStyleModel",
      "_view_count": null,
      "_view_module": "@jupyter-widgets/base",
      "_view_module_version": "1.2.0",
      "_view_name": "StyleView",
      "bar_color": null,
      "description_width": ""
     }
    },
    "7b204cdae86549cd84e9f6bb193d814f": {
     "model_module": "@jupyter-widgets/base",
     "model_name": "LayoutModel",
     "state": {
      "_model_module": "@jupyter-widgets/base",
      "_model_module_version": "1.2.0",
      "_model_name": "LayoutModel",
      "_view_count": null,
      "_view_module": "@jupyter-widgets/base",
      "_view_module_version": "1.2.0",
      "_view_name": "LayoutView",
      "align_content": null,
      "align_items": null,
      "align_self": null,
      "border": null,
      "bottom": null,
      "display": null,
      "flex": null,
      "flex_flow": null,
      "grid_area": null,
      "grid_auto_columns": null,
      "grid_auto_flow": null,
      "grid_auto_rows": null,
      "grid_column": null,
      "grid_gap": null,
      "grid_row": null,
      "grid_template_areas": null,
      "grid_template_columns": null,
      "grid_template_rows": null,
      "height": null,
      "justify_content": null,
      "justify_items": null,
      "left": null,
      "margin": null,
      "max_height": null,
      "max_width": null,
      "min_height": null,
      "min_width": null,
      "object_fit": null,
      "object_position": null,
      "order": null,
      "overflow": null,
      "overflow_x": null,
      "overflow_y": null,
      "padding": null,
      "right": null,
      "top": null,
      "visibility": null,
      "width": null
     }
    },
    "7bb5bd50d24d420d91dfb7eeae31b8eb": {
     "model_module": "@jupyter-widgets/controls",
     "model_name": "ProgressStyleModel",
     "state": {
      "_model_module": "@jupyter-widgets/controls",
      "_model_module_version": "1.5.0",
      "_model_name": "ProgressStyleModel",
      "_view_count": null,
      "_view_module": "@jupyter-widgets/base",
      "_view_module_version": "1.2.0",
      "_view_name": "StyleView",
      "bar_color": null,
      "description_width": "initial"
     }
    },
    "85f8acd5b9c0422f80186f763be79b27": {
     "model_module": "@jupyter-widgets/base",
     "model_name": "LayoutModel",
     "state": {
      "_model_module": "@jupyter-widgets/base",
      "_model_module_version": "1.2.0",
      "_model_name": "LayoutModel",
      "_view_count": null,
      "_view_module": "@jupyter-widgets/base",
      "_view_module_version": "1.2.0",
      "_view_name": "LayoutView",
      "align_content": null,
      "align_items": null,
      "align_self": null,
      "border": null,
      "bottom": null,
      "display": null,
      "flex": null,
      "flex_flow": null,
      "grid_area": null,
      "grid_auto_columns": null,
      "grid_auto_flow": null,
      "grid_auto_rows": null,
      "grid_column": null,
      "grid_gap": null,
      "grid_row": null,
      "grid_template_areas": null,
      "grid_template_columns": null,
      "grid_template_rows": null,
      "height": null,
      "justify_content": null,
      "justify_items": null,
      "left": null,
      "margin": null,
      "max_height": null,
      "max_width": null,
      "min_height": null,
      "min_width": null,
      "object_fit": null,
      "object_position": null,
      "order": null,
      "overflow": null,
      "overflow_x": null,
      "overflow_y": null,
      "padding": null,
      "right": null,
      "top": null,
      "visibility": null,
      "width": null
     }
    },
    "878f57ba67bf463a95423552f96ac7a5": {
     "model_module": "@jupyter-widgets/base",
     "model_name": "LayoutModel",
     "state": {
      "_model_module": "@jupyter-widgets/base",
      "_model_module_version": "1.2.0",
      "_model_name": "LayoutModel",
      "_view_count": null,
      "_view_module": "@jupyter-widgets/base",
      "_view_module_version": "1.2.0",
      "_view_name": "LayoutView",
      "align_content": null,
      "align_items": null,
      "align_self": null,
      "border": null,
      "bottom": null,
      "display": null,
      "flex": null,
      "flex_flow": null,
      "grid_area": null,
      "grid_auto_columns": null,
      "grid_auto_flow": null,
      "grid_auto_rows": null,
      "grid_column": null,
      "grid_gap": null,
      "grid_row": null,
      "grid_template_areas": null,
      "grid_template_columns": null,
      "grid_template_rows": null,
      "height": null,
      "justify_content": null,
      "justify_items": null,
      "left": null,
      "margin": null,
      "max_height": null,
      "max_width": null,
      "min_height": null,
      "min_width": null,
      "object_fit": null,
      "object_position": null,
      "order": null,
      "overflow": null,
      "overflow_x": null,
      "overflow_y": null,
      "padding": null,
      "right": null,
      "top": null,
      "visibility": null,
      "width": null
     }
    },
    "8f691455861646c48c078bd1354c84a0": {
     "model_module": "@jupyter-widgets/controls",
     "model_name": "IntProgressModel",
     "state": {
      "_dom_classes": [],
      "_model_module": "@jupyter-widgets/controls",
      "_model_module_version": "1.5.0",
      "_model_name": "IntProgressModel",
      "_view_count": null,
      "_view_module": "@jupyter-widgets/controls",
      "_view_module_version": "1.5.0",
      "_view_name": "ProgressView",
      "bar_style": "success",
      "description": "",
      "description_tooltip": null,
      "layout": "IPY_MODEL_b6d6c32aa42546879bb0ff5032f12674",
      "max": 1,
      "min": 0,
      "orientation": "horizontal",
      "style": "IPY_MODEL_4ac9eec28fb94c1c9235aa733d1636f7",
      "value": 1
     }
    },
    "90092dd05de94d1caf0ccb4c60d0315c": {
     "model_module": "@jupyter-widgets/controls",
     "model_name": "HTMLModel",
     "state": {
      "_dom_classes": [],
      "_model_module": "@jupyter-widgets/controls",
      "_model_module_version": "1.5.0",
      "_model_name": "HTMLModel",
      "_view_count": null,
      "_view_module": "@jupyter-widgets/controls",
      "_view_module_version": "1.5.0",
      "_view_name": "HTMLView",
      "description": "",
      "description_tooltip": null,
      "layout": "IPY_MODEL_a3977df447e840c4af307e9911402630",
      "placeholder": "​",
      "style": "IPY_MODEL_dbcf8951587d493cbc032e97c6b137e7",
      "value": "48it [00:28,  2.07it/s]"
     }
    },
    "928a8cd5cf6c44afa277f1292d73fb69": {
     "model_module": "@jupyter-widgets/controls",
     "model_name": "IntProgressModel",
     "state": {
      "_dom_classes": [],
      "_model_module": "@jupyter-widgets/controls",
      "_model_module_version": "1.5.0",
      "_model_name": "IntProgressModel",
      "_view_count": null,
      "_view_module": "@jupyter-widgets/controls",
      "_view_module_version": "1.5.0",
      "_view_name": "ProgressView",
      "bar_style": "success",
      "description": "",
      "description_tooltip": null,
      "layout": "IPY_MODEL_b5686fc668f447bd84e7d70b514236ab",
      "max": 1,
      "min": 0,
      "orientation": "horizontal",
      "style": "IPY_MODEL_5ffccd2fe78c48c9b3748e274665a0b7",
      "value": 1
     }
    },
    "958d1f108f6e4b2e88e3741c7768551b": {
     "model_module": "@jupyter-widgets/controls",
     "model_name": "HTMLModel",
     "state": {
      "_dom_classes": [],
      "_model_module": "@jupyter-widgets/controls",
      "_model_module_version": "1.5.0",
      "_model_name": "HTMLModel",
      "_view_count": null,
      "_view_module": "@jupyter-widgets/controls",
      "_view_module_version": "1.5.0",
      "_view_name": "HTMLView",
      "description": "",
      "description_tooltip": null,
      "layout": "IPY_MODEL_c80942ca5d0d4b9cae03738cfcc31e80",
      "placeholder": "​",
      "style": "IPY_MODEL_77979ff44c024998a1b20e65b4fc453e",
      "value": "48it [00:28,  2.07it/s]"
     }
    },
    "994823606deb46a7b18a93c667e16563": {
     "model_module": "@jupyter-widgets/base",
     "model_name": "LayoutModel",
     "state": {
      "_model_module": "@jupyter-widgets/base",
      "_model_module_version": "1.2.0",
      "_model_name": "LayoutModel",
      "_view_count": null,
      "_view_module": "@jupyter-widgets/base",
      "_view_module_version": "1.2.0",
      "_view_name": "LayoutView",
      "align_content": null,
      "align_items": null,
      "align_self": null,
      "border": null,
      "bottom": null,
      "display": null,
      "flex": null,
      "flex_flow": null,
      "grid_area": null,
      "grid_auto_columns": null,
      "grid_auto_flow": null,
      "grid_auto_rows": null,
      "grid_column": null,
      "grid_gap": null,
      "grid_row": null,
      "grid_template_areas": null,
      "grid_template_columns": null,
      "grid_template_rows": null,
      "height": null,
      "justify_content": null,
      "justify_items": null,
      "left": null,
      "margin": null,
      "max_height": null,
      "max_width": null,
      "min_height": null,
      "min_width": null,
      "object_fit": null,
      "object_position": null,
      "order": null,
      "overflow": null,
      "overflow_x": null,
      "overflow_y": null,
      "padding": null,
      "right": null,
      "top": null,
      "visibility": null,
      "width": null
     }
    },
    "997be2a59ae74dcba094247089fb4ce2": {
     "model_module": "@jupyter-widgets/controls",
     "model_name": "HBoxModel",
     "state": {
      "_dom_classes": [],
      "_model_module": "@jupyter-widgets/controls",
      "_model_module_version": "1.5.0",
      "_model_name": "HBoxModel",
      "_view_count": null,
      "_view_module": "@jupyter-widgets/controls",
      "_view_module_version": "1.5.0",
      "_view_name": "HBoxView",
      "box_style": "",
      "children": [
       "IPY_MODEL_928a8cd5cf6c44afa277f1292d73fb69",
       "IPY_MODEL_15bc41dcce33464a9df627f66b01cd76"
      ],
      "layout": "IPY_MODEL_d6a7b97b866248c0bee6cdac639135ea"
     }
    },
    "9a50f83a58eb450f8b51d1a42b1819cb": {
     "model_module": "@jupyter-widgets/controls",
     "model_name": "DescriptionStyleModel",
     "state": {
      "_model_module": "@jupyter-widgets/controls",
      "_model_module_version": "1.5.0",
      "_model_name": "DescriptionStyleModel",
      "_view_count": null,
      "_view_module": "@jupyter-widgets/base",
      "_view_module_version": "1.2.0",
      "_view_name": "StyleView",
      "description_width": ""
     }
    },
    "9aa84253ef6b496794fb99954271f2f4": {
     "model_module": "@jupyter-widgets/controls",
     "model_name": "IntProgressModel",
     "state": {
      "_dom_classes": [],
      "_model_module": "@jupyter-widgets/controls",
      "_model_module_version": "1.5.0",
      "_model_name": "IntProgressModel",
      "_view_count": null,
      "_view_module": "@jupyter-widgets/controls",
      "_view_module_version": "1.5.0",
      "_view_name": "ProgressView",
      "bar_style": "success",
      "description": "Epoch",
      "description_tooltip": null,
      "layout": "IPY_MODEL_048041db3d014d0e93febbe1f1a8b310",
      "max": 10,
      "min": 0,
      "orientation": "horizontal",
      "style": "IPY_MODEL_7bb5bd50d24d420d91dfb7eeae31b8eb",
      "value": 10
     }
    },
    "9bbee8f886f3448b9105455997070549": {
     "model_module": "@jupyter-widgets/controls",
     "model_name": "HTMLModel",
     "state": {
      "_dom_classes": [],
      "_model_module": "@jupyter-widgets/controls",
      "_model_module_version": "1.5.0",
      "_model_name": "HTMLModel",
      "_view_count": null,
      "_view_module": "@jupyter-widgets/controls",
      "_view_module_version": "1.5.0",
      "_view_name": "HTMLView",
      "description": "",
      "description_tooltip": null,
      "layout": "IPY_MODEL_04181cdb2dd5440a8b9d3a6302d684a1",
      "placeholder": "​",
      "style": "IPY_MODEL_376a619a060c494c87cd060dc991876c",
      "value": "48it [00:28,  2.08it/s]"
     }
    },
    "9f2c40443bd84c2fbec69054409678ad": {
     "model_module": "@jupyter-widgets/controls",
     "model_name": "IntProgressModel",
     "state": {
      "_dom_classes": [],
      "_model_module": "@jupyter-widgets/controls",
      "_model_module_version": "1.5.0",
      "_model_name": "IntProgressModel",
      "_view_count": null,
      "_view_module": "@jupyter-widgets/controls",
      "_view_module_version": "1.5.0",
      "_view_name": "ProgressView",
      "bar_style": "success",
      "description": "",
      "description_tooltip": null,
      "layout": "IPY_MODEL_e9e3373fd391443f99b1d1ab1d579c45",
      "max": 1,
      "min": 0,
      "orientation": "horizontal",
      "style": "IPY_MODEL_79b8702fb9fb4352bb1c332e828431ad",
      "value": 1
     }
    },
    "a3977df447e840c4af307e9911402630": {
     "model_module": "@jupyter-widgets/base",
     "model_name": "LayoutModel",
     "state": {
      "_model_module": "@jupyter-widgets/base",
      "_model_module_version": "1.2.0",
      "_model_name": "LayoutModel",
      "_view_count": null,
      "_view_module": "@jupyter-widgets/base",
      "_view_module_version": "1.2.0",
      "_view_name": "LayoutView",
      "align_content": null,
      "align_items": null,
      "align_self": null,
      "border": null,
      "bottom": null,
      "display": null,
      "flex": null,
      "flex_flow": null,
      "grid_area": null,
      "grid_auto_columns": null,
      "grid_auto_flow": null,
      "grid_auto_rows": null,
      "grid_column": null,
      "grid_gap": null,
      "grid_row": null,
      "grid_template_areas": null,
      "grid_template_columns": null,
      "grid_template_rows": null,
      "height": null,
      "justify_content": null,
      "justify_items": null,
      "left": null,
      "margin": null,
      "max_height": null,
      "max_width": null,
      "min_height": null,
      "min_width": null,
      "object_fit": null,
      "object_position": null,
      "order": null,
      "overflow": null,
      "overflow_x": null,
      "overflow_y": null,
      "padding": null,
      "right": null,
      "top": null,
      "visibility": null,
      "width": null
     }
    },
    "a4d1ecbf65df4d53870ddcaf77e58c9b": {
     "model_module": "@jupyter-widgets/base",
     "model_name": "LayoutModel",
     "state": {
      "_model_module": "@jupyter-widgets/base",
      "_model_module_version": "1.2.0",
      "_model_name": "LayoutModel",
      "_view_count": null,
      "_view_module": "@jupyter-widgets/base",
      "_view_module_version": "1.2.0",
      "_view_name": "LayoutView",
      "align_content": null,
      "align_items": null,
      "align_self": null,
      "border": null,
      "bottom": null,
      "display": null,
      "flex": null,
      "flex_flow": null,
      "grid_area": null,
      "grid_auto_columns": null,
      "grid_auto_flow": null,
      "grid_auto_rows": null,
      "grid_column": null,
      "grid_gap": null,
      "grid_row": null,
      "grid_template_areas": null,
      "grid_template_columns": null,
      "grid_template_rows": null,
      "height": null,
      "justify_content": null,
      "justify_items": null,
      "left": null,
      "margin": null,
      "max_height": null,
      "max_width": null,
      "min_height": null,
      "min_width": null,
      "object_fit": null,
      "object_position": null,
      "order": null,
      "overflow": null,
      "overflow_x": null,
      "overflow_y": null,
      "padding": null,
      "right": null,
      "top": null,
      "visibility": null,
      "width": null
     }
    },
    "a71ab14d922a4f37961e518489f4766e": {
     "model_module": "@jupyter-widgets/base",
     "model_name": "LayoutModel",
     "state": {
      "_model_module": "@jupyter-widgets/base",
      "_model_module_version": "1.2.0",
      "_model_name": "LayoutModel",
      "_view_count": null,
      "_view_module": "@jupyter-widgets/base",
      "_view_module_version": "1.2.0",
      "_view_name": "LayoutView",
      "align_content": null,
      "align_items": null,
      "align_self": null,
      "border": null,
      "bottom": null,
      "display": null,
      "flex": null,
      "flex_flow": null,
      "grid_area": null,
      "grid_auto_columns": null,
      "grid_auto_flow": null,
      "grid_auto_rows": null,
      "grid_column": null,
      "grid_gap": null,
      "grid_row": null,
      "grid_template_areas": null,
      "grid_template_columns": null,
      "grid_template_rows": null,
      "height": null,
      "justify_content": null,
      "justify_items": null,
      "left": null,
      "margin": null,
      "max_height": null,
      "max_width": null,
      "min_height": null,
      "min_width": null,
      "object_fit": null,
      "object_position": null,
      "order": null,
      "overflow": null,
      "overflow_x": null,
      "overflow_y": null,
      "padding": null,
      "right": null,
      "top": null,
      "visibility": null,
      "width": null
     }
    },
    "b04c580586f34005a0c77ae5efa7effb": {
     "model_module": "@jupyter-widgets/base",
     "model_name": "LayoutModel",
     "state": {
      "_model_module": "@jupyter-widgets/base",
      "_model_module_version": "1.2.0",
      "_model_name": "LayoutModel",
      "_view_count": null,
      "_view_module": "@jupyter-widgets/base",
      "_view_module_version": "1.2.0",
      "_view_name": "LayoutView",
      "align_content": null,
      "align_items": null,
      "align_self": null,
      "border": null,
      "bottom": null,
      "display": null,
      "flex": null,
      "flex_flow": null,
      "grid_area": null,
      "grid_auto_columns": null,
      "grid_auto_flow": null,
      "grid_auto_rows": null,
      "grid_column": null,
      "grid_gap": null,
      "grid_row": null,
      "grid_template_areas": null,
      "grid_template_columns": null,
      "grid_template_rows": null,
      "height": null,
      "justify_content": null,
      "justify_items": null,
      "left": null,
      "margin": null,
      "max_height": null,
      "max_width": null,
      "min_height": null,
      "min_width": null,
      "object_fit": null,
      "object_position": null,
      "order": null,
      "overflow": null,
      "overflow_x": null,
      "overflow_y": null,
      "padding": null,
      "right": null,
      "top": null,
      "visibility": null,
      "width": null
     }
    },
    "b0cd1a8ab5c84fa58c5dcc5164f4cbdf": {
     "model_module": "@jupyter-widgets/controls",
     "model_name": "HBoxModel",
     "state": {
      "_dom_classes": [],
      "_model_module": "@jupyter-widgets/controls",
      "_model_module_version": "1.5.0",
      "_model_name": "HBoxModel",
      "_view_count": null,
      "_view_module": "@jupyter-widgets/controls",
      "_view_module_version": "1.5.0",
      "_view_name": "HBoxView",
      "box_style": "",
      "children": [
       "IPY_MODEL_9f2c40443bd84c2fbec69054409678ad",
       "IPY_MODEL_958d1f108f6e4b2e88e3741c7768551b"
      ],
      "layout": "IPY_MODEL_15d6e82a455c4486a8ebfea251c25ea6"
     }
    },
    "b5686fc668f447bd84e7d70b514236ab": {
     "model_module": "@jupyter-widgets/base",
     "model_name": "LayoutModel",
     "state": {
      "_model_module": "@jupyter-widgets/base",
      "_model_module_version": "1.2.0",
      "_model_name": "LayoutModel",
      "_view_count": null,
      "_view_module": "@jupyter-widgets/base",
      "_view_module_version": "1.2.0",
      "_view_name": "LayoutView",
      "align_content": null,
      "align_items": null,
      "align_self": null,
      "border": null,
      "bottom": null,
      "display": null,
      "flex": null,
      "flex_flow": null,
      "grid_area": null,
      "grid_auto_columns": null,
      "grid_auto_flow": null,
      "grid_auto_rows": null,
      "grid_column": null,
      "grid_gap": null,
      "grid_row": null,
      "grid_template_areas": null,
      "grid_template_columns": null,
      "grid_template_rows": null,
      "height": null,
      "justify_content": null,
      "justify_items": null,
      "left": null,
      "margin": null,
      "max_height": null,
      "max_width": null,
      "min_height": null,
      "min_width": null,
      "object_fit": null,
      "object_position": null,
      "order": null,
      "overflow": null,
      "overflow_x": null,
      "overflow_y": null,
      "padding": null,
      "right": null,
      "top": null,
      "visibility": null,
      "width": null
     }
    },
    "b6d6c32aa42546879bb0ff5032f12674": {
     "model_module": "@jupyter-widgets/base",
     "model_name": "LayoutModel",
     "state": {
      "_model_module": "@jupyter-widgets/base",
      "_model_module_version": "1.2.0",
      "_model_name": "LayoutModel",
      "_view_count": null,
      "_view_module": "@jupyter-widgets/base",
      "_view_module_version": "1.2.0",
      "_view_name": "LayoutView",
      "align_content": null,
      "align_items": null,
      "align_self": null,
      "border": null,
      "bottom": null,
      "display": null,
      "flex": null,
      "flex_flow": null,
      "grid_area": null,
      "grid_auto_columns": null,
      "grid_auto_flow": null,
      "grid_auto_rows": null,
      "grid_column": null,
      "grid_gap": null,
      "grid_row": null,
      "grid_template_areas": null,
      "grid_template_columns": null,
      "grid_template_rows": null,
      "height": null,
      "justify_content": null,
      "justify_items": null,
      "left": null,
      "margin": null,
      "max_height": null,
      "max_width": null,
      "min_height": null,
      "min_width": null,
      "object_fit": null,
      "object_position": null,
      "order": null,
      "overflow": null,
      "overflow_x": null,
      "overflow_y": null,
      "padding": null,
      "right": null,
      "top": null,
      "visibility": null,
      "width": null
     }
    },
    "b888b145cb9a4711bc980681515edc23": {
     "model_module": "@jupyter-widgets/base",
     "model_name": "LayoutModel",
     "state": {
      "_model_module": "@jupyter-widgets/base",
      "_model_module_version": "1.2.0",
      "_model_name": "LayoutModel",
      "_view_count": null,
      "_view_module": "@jupyter-widgets/base",
      "_view_module_version": "1.2.0",
      "_view_name": "LayoutView",
      "align_content": null,
      "align_items": null,
      "align_self": null,
      "border": null,
      "bottom": null,
      "display": null,
      "flex": null,
      "flex_flow": null,
      "grid_area": null,
      "grid_auto_columns": null,
      "grid_auto_flow": null,
      "grid_auto_rows": null,
      "grid_column": null,
      "grid_gap": null,
      "grid_row": null,
      "grid_template_areas": null,
      "grid_template_columns": null,
      "grid_template_rows": null,
      "height": null,
      "justify_content": null,
      "justify_items": null,
      "left": null,
      "margin": null,
      "max_height": null,
      "max_width": null,
      "min_height": null,
      "min_width": null,
      "object_fit": null,
      "object_position": null,
      "order": null,
      "overflow": null,
      "overflow_x": null,
      "overflow_y": null,
      "padding": null,
      "right": null,
      "top": null,
      "visibility": null,
      "width": null
     }
    },
    "be353525d1dc460587771dad266c6520": {
     "model_module": "@jupyter-widgets/controls",
     "model_name": "HTMLModel",
     "state": {
      "_dom_classes": [],
      "_model_module": "@jupyter-widgets/controls",
      "_model_module_version": "1.5.0",
      "_model_name": "HTMLModel",
      "_view_count": null,
      "_view_module": "@jupyter-widgets/controls",
      "_view_module_version": "1.5.0",
      "_view_name": "HTMLView",
      "description": "",
      "description_tooltip": null,
      "layout": "IPY_MODEL_b04c580586f34005a0c77ae5efa7effb",
      "placeholder": "​",
      "style": "IPY_MODEL_02cdc1f9ebe540359e76e95203ecbbd7",
      "value": "48it [00:28,  2.06it/s]"
     }
    },
    "c52f555a3cea4198abc215372f4ab246": {
     "model_module": "@jupyter-widgets/base",
     "model_name": "LayoutModel",
     "state": {
      "_model_module": "@jupyter-widgets/base",
      "_model_module_version": "1.2.0",
      "_model_name": "LayoutModel",
      "_view_count": null,
      "_view_module": "@jupyter-widgets/base",
      "_view_module_version": "1.2.0",
      "_view_name": "LayoutView",
      "align_content": null,
      "align_items": null,
      "align_self": null,
      "border": null,
      "bottom": null,
      "display": null,
      "flex": null,
      "flex_flow": null,
      "grid_area": null,
      "grid_auto_columns": null,
      "grid_auto_flow": null,
      "grid_auto_rows": null,
      "grid_column": null,
      "grid_gap": null,
      "grid_row": null,
      "grid_template_areas": null,
      "grid_template_columns": null,
      "grid_template_rows": null,
      "height": null,
      "justify_content": null,
      "justify_items": null,
      "left": null,
      "margin": null,
      "max_height": null,
      "max_width": null,
      "min_height": null,
      "min_width": null,
      "object_fit": null,
      "object_position": null,
      "order": null,
      "overflow": null,
      "overflow_x": null,
      "overflow_y": null,
      "padding": null,
      "right": null,
      "top": null,
      "visibility": null,
      "width": null
     }
    },
    "c80942ca5d0d4b9cae03738cfcc31e80": {
     "model_module": "@jupyter-widgets/base",
     "model_name": "LayoutModel",
     "state": {
      "_model_module": "@jupyter-widgets/base",
      "_model_module_version": "1.2.0",
      "_model_name": "LayoutModel",
      "_view_count": null,
      "_view_module": "@jupyter-widgets/base",
      "_view_module_version": "1.2.0",
      "_view_name": "LayoutView",
      "align_content": null,
      "align_items": null,
      "align_self": null,
      "border": null,
      "bottom": null,
      "display": null,
      "flex": null,
      "flex_flow": null,
      "grid_area": null,
      "grid_auto_columns": null,
      "grid_auto_flow": null,
      "grid_auto_rows": null,
      "grid_column": null,
      "grid_gap": null,
      "grid_row": null,
      "grid_template_areas": null,
      "grid_template_columns": null,
      "grid_template_rows": null,
      "height": null,
      "justify_content": null,
      "justify_items": null,
      "left": null,
      "margin": null,
      "max_height": null,
      "max_width": null,
      "min_height": null,
      "min_width": null,
      "object_fit": null,
      "object_position": null,
      "order": null,
      "overflow": null,
      "overflow_x": null,
      "overflow_y": null,
      "padding": null,
      "right": null,
      "top": null,
      "visibility": null,
      "width": null
     }
    },
    "ca974ff588a9427eaec6c75e8e229920": {
     "model_module": "@jupyter-widgets/base",
     "model_name": "LayoutModel",
     "state": {
      "_model_module": "@jupyter-widgets/base",
      "_model_module_version": "1.2.0",
      "_model_name": "LayoutModel",
      "_view_count": null,
      "_view_module": "@jupyter-widgets/base",
      "_view_module_version": "1.2.0",
      "_view_name": "LayoutView",
      "align_content": null,
      "align_items": null,
      "align_self": null,
      "border": null,
      "bottom": null,
      "display": null,
      "flex": null,
      "flex_flow": null,
      "grid_area": null,
      "grid_auto_columns": null,
      "grid_auto_flow": null,
      "grid_auto_rows": null,
      "grid_column": null,
      "grid_gap": null,
      "grid_row": null,
      "grid_template_areas": null,
      "grid_template_columns": null,
      "grid_template_rows": null,
      "height": null,
      "justify_content": null,
      "justify_items": null,
      "left": null,
      "margin": null,
      "max_height": null,
      "max_width": null,
      "min_height": null,
      "min_width": null,
      "object_fit": null,
      "object_position": null,
      "order": null,
      "overflow": null,
      "overflow_x": null,
      "overflow_y": null,
      "padding": null,
      "right": null,
      "top": null,
      "visibility": null,
      "width": null
     }
    },
    "d03817b463db4d3da8fa5961c51e6ca6": {
     "model_module": "@jupyter-widgets/controls",
     "model_name": "DescriptionStyleModel",
     "state": {
      "_model_module": "@jupyter-widgets/controls",
      "_model_module_version": "1.5.0",
      "_model_name": "DescriptionStyleModel",
      "_view_count": null,
      "_view_module": "@jupyter-widgets/base",
      "_view_module_version": "1.2.0",
      "_view_name": "StyleView",
      "description_width": ""
     }
    },
    "d6a7b97b866248c0bee6cdac639135ea": {
     "model_module": "@jupyter-widgets/base",
     "model_name": "LayoutModel",
     "state": {
      "_model_module": "@jupyter-widgets/base",
      "_model_module_version": "1.2.0",
      "_model_name": "LayoutModel",
      "_view_count": null,
      "_view_module": "@jupyter-widgets/base",
      "_view_module_version": "1.2.0",
      "_view_name": "LayoutView",
      "align_content": null,
      "align_items": null,
      "align_self": null,
      "border": null,
      "bottom": null,
      "display": null,
      "flex": null,
      "flex_flow": null,
      "grid_area": null,
      "grid_auto_columns": null,
      "grid_auto_flow": null,
      "grid_auto_rows": null,
      "grid_column": null,
      "grid_gap": null,
      "grid_row": null,
      "grid_template_areas": null,
      "grid_template_columns": null,
      "grid_template_rows": null,
      "height": null,
      "justify_content": null,
      "justify_items": null,
      "left": null,
      "margin": null,
      "max_height": null,
      "max_width": null,
      "min_height": null,
      "min_width": null,
      "object_fit": null,
      "object_position": null,
      "order": null,
      "overflow": null,
      "overflow_x": null,
      "overflow_y": null,
      "padding": null,
      "right": null,
      "top": null,
      "visibility": null,
      "width": null
     }
    },
    "d73bbb528bc6404ea7ba9b25e532c197": {
     "model_module": "@jupyter-widgets/controls",
     "model_name": "HBoxModel",
     "state": {
      "_dom_classes": [],
      "_model_module": "@jupyter-widgets/controls",
      "_model_module_version": "1.5.0",
      "_model_name": "HBoxModel",
      "_view_count": null,
      "_view_module": "@jupyter-widgets/controls",
      "_view_module_version": "1.5.0",
      "_view_name": "HBoxView",
      "box_style": "",
      "children": [
       "IPY_MODEL_39a2cb06c9b244c8a01346bed9484d12",
       "IPY_MODEL_9bbee8f886f3448b9105455997070549"
      ],
      "layout": "IPY_MODEL_1f6da25831b64f849a967bdcd2b5b7cc"
     }
    },
    "d75a4763d84d45c7a55d97f488c48832": {
     "model_module": "@jupyter-widgets/controls",
     "model_name": "HTMLModel",
     "state": {
      "_dom_classes": [],
      "_model_module": "@jupyter-widgets/controls",
      "_model_module_version": "1.5.0",
      "_model_name": "HTMLModel",
      "_view_count": null,
      "_view_module": "@jupyter-widgets/controls",
      "_view_module_version": "1.5.0",
      "_view_name": "HTMLView",
      "description": "",
      "description_tooltip": null,
      "layout": "IPY_MODEL_85f8acd5b9c0422f80186f763be79b27",
      "placeholder": "​",
      "style": "IPY_MODEL_4855545792864ff19d9499b293d0e9d6",
      "value": "48it [00:28,  2.07it/s]"
     }
    },
    "da993d4848a847e5a7a67d4be21a4d18": {
     "model_module": "@jupyter-widgets/controls",
     "model_name": "HBoxModel",
     "state": {
      "_dom_classes": [],
      "_model_module": "@jupyter-widgets/controls",
      "_model_module_version": "1.5.0",
      "_model_name": "HBoxModel",
      "_view_count": null,
      "_view_module": "@jupyter-widgets/controls",
      "_view_module_version": "1.5.0",
      "_view_name": "HBoxView",
      "box_style": "",
      "children": [
       "IPY_MODEL_df5fcfb61a554b68bc41dae7e044c318",
       "IPY_MODEL_db014efa7910494bbf6b0d61c96f7734"
      ],
      "layout": "IPY_MODEL_994823606deb46a7b18a93c667e16563"
     }
    },
    "daba1200bf5e4ff290bd787f6b1c9de3": {
     "model_module": "@jupyter-widgets/base",
     "model_name": "LayoutModel",
     "state": {
      "_model_module": "@jupyter-widgets/base",
      "_model_module_version": "1.2.0",
      "_model_name": "LayoutModel",
      "_view_count": null,
      "_view_module": "@jupyter-widgets/base",
      "_view_module_version": "1.2.0",
      "_view_name": "LayoutView",
      "align_content": null,
      "align_items": null,
      "align_self": null,
      "border": null,
      "bottom": null,
      "display": null,
      "flex": null,
      "flex_flow": null,
      "grid_area": null,
      "grid_auto_columns": null,
      "grid_auto_flow": null,
      "grid_auto_rows": null,
      "grid_column": null,
      "grid_gap": null,
      "grid_row": null,
      "grid_template_areas": null,
      "grid_template_columns": null,
      "grid_template_rows": null,
      "height": null,
      "justify_content": null,
      "justify_items": null,
      "left": null,
      "margin": null,
      "max_height": null,
      "max_width": null,
      "min_height": null,
      "min_width": null,
      "object_fit": null,
      "object_position": null,
      "order": null,
      "overflow": null,
      "overflow_x": null,
      "overflow_y": null,
      "padding": null,
      "right": null,
      "top": null,
      "visibility": null,
      "width": null
     }
    },
    "dacc71f9e12e4eb291e902093adf284c": {
     "model_module": "@jupyter-widgets/controls",
     "model_name": "DescriptionStyleModel",
     "state": {
      "_model_module": "@jupyter-widgets/controls",
      "_model_module_version": "1.5.0",
      "_model_name": "DescriptionStyleModel",
      "_view_count": null,
      "_view_module": "@jupyter-widgets/base",
      "_view_module_version": "1.2.0",
      "_view_name": "StyleView",
      "description_width": ""
     }
    },
    "daeb03da065b47bab36d912fab2336e6": {
     "model_module": "@jupyter-widgets/controls",
     "model_name": "ProgressStyleModel",
     "state": {
      "_model_module": "@jupyter-widgets/controls",
      "_model_module_version": "1.5.0",
      "_model_name": "ProgressStyleModel",
      "_view_count": null,
      "_view_module": "@jupyter-widgets/base",
      "_view_module_version": "1.2.0",
      "_view_name": "StyleView",
      "bar_color": null,
      "description_width": ""
     }
    },
    "db014efa7910494bbf6b0d61c96f7734": {
     "model_module": "@jupyter-widgets/controls",
     "model_name": "HTMLModel",
     "state": {
      "_dom_classes": [],
      "_model_module": "@jupyter-widgets/controls",
      "_model_module_version": "1.5.0",
      "_model_name": "HTMLModel",
      "_view_count": null,
      "_view_module": "@jupyter-widgets/controls",
      "_view_module_version": "1.5.0",
      "_view_name": "HTMLView",
      "description": "",
      "description_tooltip": null,
      "layout": "IPY_MODEL_e3082940a72f4a0d8a5892264280ef88",
      "placeholder": "​",
      "style": "IPY_MODEL_dacc71f9e12e4eb291e902093adf284c",
      "value": "48it [00:28,  2.08it/s]"
     }
    },
    "dbcf8951587d493cbc032e97c6b137e7": {
     "model_module": "@jupyter-widgets/controls",
     "model_name": "DescriptionStyleModel",
     "state": {
      "_model_module": "@jupyter-widgets/controls",
      "_model_module_version": "1.5.0",
      "_model_name": "DescriptionStyleModel",
      "_view_count": null,
      "_view_module": "@jupyter-widgets/base",
      "_view_module_version": "1.2.0",
      "_view_name": "StyleView",
      "description_width": ""
     }
    },
    "ddf404f6532b4421ac6d735e0da64d65": {
     "model_module": "@jupyter-widgets/base",
     "model_name": "LayoutModel",
     "state": {
      "_model_module": "@jupyter-widgets/base",
      "_model_module_version": "1.2.0",
      "_model_name": "LayoutModel",
      "_view_count": null,
      "_view_module": "@jupyter-widgets/base",
      "_view_module_version": "1.2.0",
      "_view_name": "LayoutView",
      "align_content": null,
      "align_items": null,
      "align_self": null,
      "border": null,
      "bottom": null,
      "display": null,
      "flex": null,
      "flex_flow": null,
      "grid_area": null,
      "grid_auto_columns": null,
      "grid_auto_flow": null,
      "grid_auto_rows": null,
      "grid_column": null,
      "grid_gap": null,
      "grid_row": null,
      "grid_template_areas": null,
      "grid_template_columns": null,
      "grid_template_rows": null,
      "height": null,
      "justify_content": null,
      "justify_items": null,
      "left": null,
      "margin": null,
      "max_height": null,
      "max_width": null,
      "min_height": null,
      "min_width": null,
      "object_fit": null,
      "object_position": null,
      "order": null,
      "overflow": null,
      "overflow_x": null,
      "overflow_y": null,
      "padding": null,
      "right": null,
      "top": null,
      "visibility": null,
      "width": null
     }
    },
    "df5fcfb61a554b68bc41dae7e044c318": {
     "model_module": "@jupyter-widgets/controls",
     "model_name": "IntProgressModel",
     "state": {
      "_dom_classes": [],
      "_model_module": "@jupyter-widgets/controls",
      "_model_module_version": "1.5.0",
      "_model_name": "IntProgressModel",
      "_view_count": null,
      "_view_module": "@jupyter-widgets/controls",
      "_view_module_version": "1.5.0",
      "_view_name": "ProgressView",
      "bar_style": "success",
      "description": "",
      "description_tooltip": null,
      "layout": "IPY_MODEL_edd3b5420eb14dd8929d0cbaa89866fc",
      "max": 1,
      "min": 0,
      "orientation": "horizontal",
      "style": "IPY_MODEL_4c599a621b134bf1bc91be50272206d2",
      "value": 1
     }
    },
    "e1e91a7874e749fbb27ffcd4a76a799d": {
     "model_module": "@jupyter-widgets/controls",
     "model_name": "DescriptionStyleModel",
     "state": {
      "_model_module": "@jupyter-widgets/controls",
      "_model_module_version": "1.5.0",
      "_model_name": "DescriptionStyleModel",
      "_view_count": null,
      "_view_module": "@jupyter-widgets/base",
      "_view_module_version": "1.2.0",
      "_view_name": "StyleView",
      "description_width": ""
     }
    },
    "e3082940a72f4a0d8a5892264280ef88": {
     "model_module": "@jupyter-widgets/base",
     "model_name": "LayoutModel",
     "state": {
      "_model_module": "@jupyter-widgets/base",
      "_model_module_version": "1.2.0",
      "_model_name": "LayoutModel",
      "_view_count": null,
      "_view_module": "@jupyter-widgets/base",
      "_view_module_version": "1.2.0",
      "_view_name": "LayoutView",
      "align_content": null,
      "align_items": null,
      "align_self": null,
      "border": null,
      "bottom": null,
      "display": null,
      "flex": null,
      "flex_flow": null,
      "grid_area": null,
      "grid_auto_columns": null,
      "grid_auto_flow": null,
      "grid_auto_rows": null,
      "grid_column": null,
      "grid_gap": null,
      "grid_row": null,
      "grid_template_areas": null,
      "grid_template_columns": null,
      "grid_template_rows": null,
      "height": null,
      "justify_content": null,
      "justify_items": null,
      "left": null,
      "margin": null,
      "max_height": null,
      "max_width": null,
      "min_height": null,
      "min_width": null,
      "object_fit": null,
      "object_position": null,
      "order": null,
      "overflow": null,
      "overflow_x": null,
      "overflow_y": null,
      "padding": null,
      "right": null,
      "top": null,
      "visibility": null,
      "width": null
     }
    },
    "e6c993f22957480d9d987fe28fd89310": {
     "model_module": "@jupyter-widgets/controls",
     "model_name": "HBoxModel",
     "state": {
      "_dom_classes": [],
      "_model_module": "@jupyter-widgets/controls",
      "_model_module_version": "1.5.0",
      "_model_name": "HBoxModel",
      "_view_count": null,
      "_view_module": "@jupyter-widgets/controls",
      "_view_module_version": "1.5.0",
      "_view_name": "HBoxView",
      "box_style": "",
      "children": [
       "IPY_MODEL_f6202a93a9be416994d9fe42b6842266",
       "IPY_MODEL_d75a4763d84d45c7a55d97f488c48832"
      ],
      "layout": "IPY_MODEL_0905fb89f9284cf4aaaececefd568a0f"
     }
    },
    "e9e3373fd391443f99b1d1ab1d579c45": {
     "model_module": "@jupyter-widgets/base",
     "model_name": "LayoutModel",
     "state": {
      "_model_module": "@jupyter-widgets/base",
      "_model_module_version": "1.2.0",
      "_model_name": "LayoutModel",
      "_view_count": null,
      "_view_module": "@jupyter-widgets/base",
      "_view_module_version": "1.2.0",
      "_view_name": "LayoutView",
      "align_content": null,
      "align_items": null,
      "align_self": null,
      "border": null,
      "bottom": null,
      "display": null,
      "flex": null,
      "flex_flow": null,
      "grid_area": null,
      "grid_auto_columns": null,
      "grid_auto_flow": null,
      "grid_auto_rows": null,
      "grid_column": null,
      "grid_gap": null,
      "grid_row": null,
      "grid_template_areas": null,
      "grid_template_columns": null,
      "grid_template_rows": null,
      "height": null,
      "justify_content": null,
      "justify_items": null,
      "left": null,
      "margin": null,
      "max_height": null,
      "max_width": null,
      "min_height": null,
      "min_width": null,
      "object_fit": null,
      "object_position": null,
      "order": null,
      "overflow": null,
      "overflow_x": null,
      "overflow_y": null,
      "padding": null,
      "right": null,
      "top": null,
      "visibility": null,
      "width": null
     }
    },
    "eae8f35795f648799628d29371071cb4": {
     "model_module": "@jupyter-widgets/controls",
     "model_name": "HTMLModel",
     "state": {
      "_dom_classes": [],
      "_model_module": "@jupyter-widgets/controls",
      "_model_module_version": "1.5.0",
      "_model_name": "HTMLModel",
      "_view_count": null,
      "_view_module": "@jupyter-widgets/controls",
      "_view_module_version": "1.5.0",
      "_view_name": "HTMLView",
      "description": "",
      "description_tooltip": null,
      "layout": "IPY_MODEL_33161d5dfcd7454f909977da53735c93",
      "placeholder": "​",
      "style": "IPY_MODEL_e1e91a7874e749fbb27ffcd4a76a799d",
      "value": "100% 10/10 [04:44&lt;00:00, 28.41s/it]"
     }
    },
    "edd3b5420eb14dd8929d0cbaa89866fc": {
     "model_module": "@jupyter-widgets/base",
     "model_name": "LayoutModel",
     "state": {
      "_model_module": "@jupyter-widgets/base",
      "_model_module_version": "1.2.0",
      "_model_name": "LayoutModel",
      "_view_count": null,
      "_view_module": "@jupyter-widgets/base",
      "_view_module_version": "1.2.0",
      "_view_name": "LayoutView",
      "align_content": null,
      "align_items": null,
      "align_self": null,
      "border": null,
      "bottom": null,
      "display": null,
      "flex": null,
      "flex_flow": null,
      "grid_area": null,
      "grid_auto_columns": null,
      "grid_auto_flow": null,
      "grid_auto_rows": null,
      "grid_column": null,
      "grid_gap": null,
      "grid_row": null,
      "grid_template_areas": null,
      "grid_template_columns": null,
      "grid_template_rows": null,
      "height": null,
      "justify_content": null,
      "justify_items": null,
      "left": null,
      "margin": null,
      "max_height": null,
      "max_width": null,
      "min_height": null,
      "min_width": null,
      "object_fit": null,
      "object_position": null,
      "order": null,
      "overflow": null,
      "overflow_x": null,
      "overflow_y": null,
      "padding": null,
      "right": null,
      "top": null,
      "visibility": null,
      "width": null
     }
    },
    "f3fc32263d414b6e85774334c227711c": {
     "model_module": "@jupyter-widgets/controls",
     "model_name": "HBoxModel",
     "state": {
      "_dom_classes": [],
      "_model_module": "@jupyter-widgets/controls",
      "_model_module_version": "1.5.0",
      "_model_name": "HBoxModel",
      "_view_count": null,
      "_view_module": "@jupyter-widgets/controls",
      "_view_module_version": "1.5.0",
      "_view_name": "HBoxView",
      "box_style": "",
      "children": [
       "IPY_MODEL_5c9b22e9a8144056b36ffa3404948d45",
       "IPY_MODEL_be353525d1dc460587771dad266c6520"
      ],
      "layout": "IPY_MODEL_878f57ba67bf463a95423552f96ac7a5"
     }
    },
    "f6202a93a9be416994d9fe42b6842266": {
     "model_module": "@jupyter-widgets/controls",
     "model_name": "IntProgressModel",
     "state": {
      "_dom_classes": [],
      "_model_module": "@jupyter-widgets/controls",
      "_model_module_version": "1.5.0",
      "_model_name": "IntProgressModel",
      "_view_count": null,
      "_view_module": "@jupyter-widgets/controls",
      "_view_module_version": "1.5.0",
      "_view_name": "ProgressView",
      "bar_style": "success",
      "description": "",
      "description_tooltip": null,
      "layout": "IPY_MODEL_a4d1ecbf65df4d53870ddcaf77e58c9b",
      "max": 1,
      "min": 0,
      "orientation": "horizontal",
      "style": "IPY_MODEL_4fe4078d44b847c3b027afdaab84557d",
      "value": 1
     }
    },
    "ff1152ae8a2540b09a8ee6a20cfb1ca5": {
     "model_module": "@jupyter-widgets/base",
     "model_name": "LayoutModel",
     "state": {
      "_model_module": "@jupyter-widgets/base",
      "_model_module_version": "1.2.0",
      "_model_name": "LayoutModel",
      "_view_count": null,
      "_view_module": "@jupyter-widgets/base",
      "_view_module_version": "1.2.0",
      "_view_name": "LayoutView",
      "align_content": null,
      "align_items": null,
      "align_self": null,
      "border": null,
      "bottom": null,
      "display": null,
      "flex": null,
      "flex_flow": null,
      "grid_area": null,
      "grid_auto_columns": null,
      "grid_auto_flow": null,
      "grid_auto_rows": null,
      "grid_column": null,
      "grid_gap": null,
      "grid_row": null,
      "grid_template_areas": null,
      "grid_template_columns": null,
      "grid_template_rows": null,
      "height": null,
      "justify_content": null,
      "justify_items": null,
      "left": null,
      "margin": null,
      "max_height": null,
      "max_width": null,
      "min_height": null,
      "min_width": null,
      "object_fit": null,
      "object_position": null,
      "order": null,
      "overflow": null,
      "overflow_x": null,
      "overflow_y": null,
      "padding": null,
      "right": null,
      "top": null,
      "visibility": null,
      "width": null
     }
    }
   }
  }
 },
 "nbformat": 4,
 "nbformat_minor": 1
}
